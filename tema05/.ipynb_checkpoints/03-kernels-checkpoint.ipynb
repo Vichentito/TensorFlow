{
 "cells": [
  {
   "cell_type": "markdown",
   "metadata": {},
   "source": [
    "# Nucleos de convolucion no lineales"
   ]
  },
  {
   "cell_type": "markdown",
   "metadata": {},
   "source": [
    "$$\\max \\left(\\sum_{i=1}^n b_i - \\frac{1}{2}\\sum_{i=1}^n\\sum_{j=1}^n y_i b_i k(x_i, x_j) y_j b_j\\right)$$"
   ]
  },
  {
   "cell_type": "markdown",
   "metadata": {},
   "source": [
    "sujeto a las restricciones\n",
    "$$\\sum_{i=1}^n b_i y_i = 0$$\n",
    "$$0\\le b_i\\le \\frac{1}{2n\\gamma}$$"
   ]
  },
  {
   "cell_type": "markdown",
   "metadata": {},
   "source": [
    "$k$ se denomina el núcleo (**kernel**) de la SVM\n",
    "- Caso lineal $k(x_i,x_j) = x_i\\cdot x_j$\n",
    "- Caso general $k(x_i, x_j) = \\phi(x_i)\\cdot \\phi(x_j)$"
   ]
  },
  {
   "cell_type": "markdown",
   "metadata": {},
   "source": [
    "- Kernel Gaussiano: $k(x_i, x_j) = e^{-\\gamma||x_i-x_j||^2}$\n",
    "- Predicción: $k(x_i, p_j) = e^{-\\gamma||x_i-p_j||^2}$"
   ]
  },
  {
   "cell_type": "markdown",
   "metadata": {},
   "source": [
    "- Kernel polinomial homogéneo: $k(x_i, x_j)= (x_i\\cdot x_j)^d$\n",
    "- Kernel polinomial no homogéneo: $(x_i, x_j)= (x_i\\cdot x_j +1)^d$\n",
    "- Kernel de tangente hiperbólica: $(x_i, x_j)= tanh(a x_i\\cdot x_j +k)$"
   ]
  },
  {
   "cell_type": "code",
   "execution_count": 2,
   "metadata": {},
   "outputs": [
    {
     "name": "stderr",
     "output_type": "stream",
     "text": [
      "C:\\Users\\chent\\.conda\\envs\\python6\\lib\\importlib\\_bootstrap.py:219: RuntimeWarning: numpy.ufunc size changed, may indicate binary incompatibility. Expected 192 from C header, got 216 from PyObject\n",
      "  return f(*args, **kwds)\n"
     ]
    }
   ],
   "source": [
    "import matplotlib.pyplot as plt\n",
    "import numpy as np\n",
    "from sklearn import datasets\n",
    "import tensorflow as tf"
   ]
  },
  {
   "cell_type": "code",
   "execution_count": 3,
   "metadata": {},
   "outputs": [],
   "source": [
    "session = tf.Session()"
   ]
  },
  {
   "cell_type": "code",
   "execution_count": 11,
   "metadata": {},
   "outputs": [],
   "source": [
    "(x_vals,y_vals) = datasets.make_circles(n_samples=500, factor=0.5, noise=0.1)"
   ]
  },
  {
   "cell_type": "code",
   "execution_count": 12,
   "metadata": {},
   "outputs": [],
   "source": [
    "y_vals = np.array([1 if y == 1 else -1 for y in y_vals])"
   ]
  },
  {
   "cell_type": "code",
   "execution_count": 15,
   "metadata": {},
   "outputs": [],
   "source": [
    "class1_x = [x[0] for i, x in enumerate(x_vals) if y_vals[i]==1]\n",
    "class1_y = [x[1] for i, x in enumerate(x_vals) if y_vals[i]==1]\n",
    "\n",
    "class2_x = [x[0] for i, x in enumerate(x_vals) if y_vals[i]==-1]\n",
    "class2_y = [x[1] for i, x in enumerate(x_vals) if y_vals[i]==-1]"
   ]
  },
  {
   "cell_type": "code",
   "execution_count": 16,
   "metadata": {},
   "outputs": [
    {
     "data": {
      "image/png": "[encoded data removed]",
      "text/plain": [
       "<Figure size 432x288 with 1 Axes>"
      ]
     },
     "metadata": {
      "needs_background": "light"
     },
     "output_type": "display_data"
    }
   ],
   "source": [
    "plt.plot(class1_x,class1_y, 'ro', label=\"Clase 1\")\n",
    "plt.plot(class2_x,class2_y, 'bx', label=\"Clase 2\")\n",
    "plt.show()"
   ]
  },
  {
   "cell_type": "code",
   "execution_count": null,
   "metadata": {},
   "outputs": [],
   "source": []
  }
 ],
 "metadata": {
  "kernelspec": {
   "display_name": "Python 3",
   "language": "python",
   "name": "python3"
  },
  "language_info": {
   "codemirror_mode": {
    "name": "ipython",
    "version": 3
   },
   "file_extension": ".py",
   "mimetype": "text/x-python",
   "name": "python",
   "nbconvert_exporter": "python",
   "pygments_lexer": "ipython3",
   "version": "3.6.8"
  }
 },
 "nbformat": 4,
 "nbformat_minor": 2
}
