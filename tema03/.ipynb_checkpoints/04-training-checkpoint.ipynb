{
 "cells": [
  {
   "cell_type": "markdown",
   "metadata": {},
   "source": [
    "# Entrenamiento estocástico y por bloques"
   ]
  },
  {
   "cell_type": "code",
   "execution_count": 3,
   "metadata": {},
   "outputs": [],
   "source": [
    "import tensorflow as tf\n",
    "import numpy as np\n",
    "import matplotlib.pyplot as plt"
   ]
  },
  {
   "cell_type": "code",
   "execution_count": 26,
   "metadata": {},
   "outputs": [],
   "source": [
    "session = tf.Session()"
   ]
  },
  {
   "cell_type": "code",
   "execution_count": 27,
   "metadata": {},
   "outputs": [],
   "source": [
    "batch_size = 25"
   ]
  },
  {
   "cell_type": "code",
   "execution_count": 28,
   "metadata": {},
   "outputs": [],
   "source": [
    "x_vals = np.random.normal(1.0,0.1,200)\n",
    "y_vals = np.repeat(10.0,200)"
   ]
  },
  {
   "cell_type": "code",
   "execution_count": 29,
   "metadata": {},
   "outputs": [],
   "source": [
    "x_data = tf.placeholder(shape=[None,1], dtype=tf.float32)\n",
    "y_target = tf.placeholder(shape=[None,1], dtype=tf.float32)\n",
    "A = tf.Variable(tf.random_normal(shape=[1,1]))"
   ]
  },
  {
   "cell_type": "code",
   "execution_count": 30,
   "metadata": {},
   "outputs": [],
   "source": [
    "pred = tf.matmul(x_data,A)"
   ]
  },
  {
   "cell_type": "code",
   "execution_count": 31,
   "metadata": {},
   "outputs": [],
   "source": [
    "loss = tf.reduce_mean(tf.square(pred - y_target))"
   ]
  },
  {
   "cell_type": "code",
   "execution_count": 32,
   "metadata": {},
   "outputs": [],
   "source": [
    "optimizer = tf.train.GradientDescentOptimizer(learning_rate= 0.025)\n",
    "train_step = optimizer.minimize(loss)"
   ]
  },
  {
   "cell_type": "code",
   "execution_count": 33,
   "metadata": {},
   "outputs": [],
   "source": [
    "init = tf.global_variables_initializer()"
   ]
  },
  {
   "cell_type": "code",
   "execution_count": 34,
   "metadata": {},
   "outputs": [],
   "source": [
    "session.run(init)"
   ]
  },
  {
   "cell_type": "code",
   "execution_count": 18,
   "metadata": {},
   "outputs": [
    {
     "name": "stdout",
     "output_type": "stream",
     "text": [
      "Paso #5 A=[[1.6830393]]\n",
      "Loss: 69.1968\n",
      "Paso #10 A=[[3.5508025]]\n",
      "Loss: 42.66879\n",
      "Paso #15 A=[[5.0030537]]\n",
      "Loss: 24.33593\n",
      "Paso #20 A=[[6.1255865]]\n",
      "Loss: 17.079243\n",
      "Paso #25 A=[[6.9778595]]\n",
      "Loss: 10.781096\n",
      "Paso #30 A=[[7.6575627]]\n",
      "Loss: 6.5128655\n",
      "Paso #35 A=[[8.168173]]\n",
      "Loss: 2.6086216\n",
      "Paso #40 A=[[8.572624]]\n",
      "Loss: 3.4330769\n",
      "Paso #45 A=[[8.862338]]\n",
      "Loss: 2.017397\n",
      "Paso #50 A=[[9.08754]]\n",
      "Loss: 2.4982343\n",
      "Paso #55 A=[[9.257148]]\n",
      "Loss: 1.5411117\n",
      "Paso #60 A=[[9.4011965]]\n",
      "Loss: 1.439156\n",
      "Paso #65 A=[[9.495574]]\n",
      "Loss: 0.8937218\n",
      "Paso #70 A=[[9.616099]]\n",
      "Loss: 0.97325516\n",
      "Paso #75 A=[[9.70776]]\n",
      "Loss: 1.254233\n",
      "Paso #80 A=[[9.736427]]\n",
      "Loss: 1.740951\n",
      "Paso #85 A=[[9.785953]]\n",
      "Loss: 0.8628614\n",
      "Paso #90 A=[[9.7769375]]\n",
      "Loss: 1.2099218\n",
      "Paso #95 A=[[9.79001]]\n",
      "Loss: 0.5925987\n",
      "Paso #100 A=[[9.831215]]\n",
      "Loss: 1.2598218\n",
      "Paso #105 A=[[9.845413]]\n",
      "Loss: 1.2616812\n",
      "Paso #110 A=[[9.843135]]\n",
      "Loss: 1.1326468\n",
      "Paso #115 A=[[9.87095]]\n",
      "Loss: 0.6538522\n",
      "Paso #120 A=[[9.863362]]\n",
      "Loss: 1.0562757\n",
      "Paso #125 A=[[9.874506]]\n",
      "Loss: 0.7199211\n",
      "Paso #130 A=[[9.888995]]\n",
      "Loss: 0.74733955\n",
      "Paso #135 A=[[9.9074]]\n",
      "Loss: 0.90736175\n",
      "Paso #140 A=[[9.910964]]\n",
      "Loss: 1.62274\n",
      "Paso #145 A=[[9.872077]]\n",
      "Loss: 0.95214546\n",
      "Paso #150 A=[[9.863269]]\n",
      "Loss: 0.87682265\n",
      "Paso #155 A=[[9.920496]]\n",
      "Loss: 1.2016371\n",
      "Paso #160 A=[[9.903985]]\n",
      "Loss: 1.040005\n",
      "Paso #165 A=[[9.913239]]\n",
      "Loss: 1.0513561\n",
      "Paso #170 A=[[9.932638]]\n",
      "Loss: 1.3665138\n",
      "Paso #175 A=[[9.907235]]\n",
      "Loss: 1.5632743\n",
      "Paso #180 A=[[9.932725]]\n",
      "Loss: 1.1865698\n",
      "Paso #185 A=[[9.9171915]]\n",
      "Loss: 1.5519916\n",
      "Paso #190 A=[[9.898656]]\n",
      "Loss: 0.8820498\n",
      "Paso #195 A=[[9.885192]]\n",
      "Loss: 0.9711527\n",
      "Paso #200 A=[[9.883998]]\n",
      "Loss: 1.0943965\n"
     ]
    }
   ],
   "source": [
    "loss_batch = []\n",
    "for i in range(200):\n",
    "    rand_idx = np.random.choice(200, size=batch_size)\n",
    "    rand_x = np.transpose([x_vals[rand_idx]])\n",
    "    rand_y = np.transpose([y_vals[rand_idx]])\n",
    "    session.run(train_step, feed_dict={x_data:rand_x,y_target:rand_y})\n",
    "    if (i+1)%5 == 0:\n",
    "        print(\"Paso #\"+str(i+1)+' A='+str(session.run(A)))\n",
    "        temp_loss = session.run(loss, feed_dict={x_data:rand_x, y_target:rand_y})\n",
    "        print(\"Loss: \"+str(temp_loss))\n",
    "        loss_batch.append(temp_loss)"
   ]
  },
  {
   "cell_type": "code",
   "execution_count": 35,
   "metadata": {},
   "outputs": [
    {
     "name": "stdout",
     "output_type": "stream",
     "text": [
      "Paso #5 A=[[2.741359]]\n",
      "Loss: 59.16648\n",
      "Paso #10 A=[[4.3538294]]\n",
      "Loss: 33.47199\n",
      "Paso #15 A=[[5.6208353]]\n",
      "Loss: 24.64449\n",
      "Paso #20 A=[[6.6015005]]\n",
      "Loss: 8.009668\n",
      "Paso #25 A=[[7.277613]]\n",
      "Loss: 2.7991567\n",
      "Paso #30 A=[[7.760189]]\n",
      "Loss: 0.000110148925\n",
      "Paso #35 A=[[8.210914]]\n",
      "Loss: 0.07711858\n",
      "Paso #40 A=[[8.561798]]\n",
      "Loss: 1.6485322\n",
      "Paso #45 A=[[8.924045]]\n",
      "Loss: 0.005041285\n",
      "Paso #50 A=[[9.093707]]\n",
      "Loss: 0.6604647\n",
      "Paso #55 A=[[9.340846]]\n",
      "Loss: 3.414972\n",
      "Paso #60 A=[[9.346824]]\n",
      "Loss: 0.4263304\n",
      "Paso #65 A=[[9.4450445]]\n",
      "Loss: 0.09040053\n",
      "Paso #70 A=[[9.452388]]\n",
      "Loss: 0.055084184\n",
      "Paso #75 A=[[9.43543]]\n",
      "Loss: 0.6293274\n",
      "Paso #80 A=[[9.526519]]\n",
      "Loss: 1.9720283\n",
      "Paso #85 A=[[9.639946]]\n",
      "Loss: 0.12694587\n",
      "Paso #90 A=[[9.79389]]\n",
      "Loss: 0.07225384\n",
      "Paso #95 A=[[9.866576]]\n",
      "Loss: 0.6703069\n",
      "Paso #100 A=[[9.733988]]\n",
      "Loss: 1.0816932\n",
      "Paso #105 A=[[9.805816]]\n",
      "Loss: 1.0694921\n",
      "Paso #110 A=[[9.767814]]\n",
      "Loss: 0.6526307\n",
      "Paso #115 A=[[9.829211]]\n",
      "Loss: 1.7424622\n",
      "Paso #120 A=[[9.793433]]\n",
      "Loss: 0.010026224\n",
      "Paso #125 A=[[9.7947445]]\n",
      "Loss: 1.0445646\n",
      "Paso #130 A=[[9.63199]]\n",
      "Loss: 0.36970317\n",
      "Paso #135 A=[[9.759819]]\n",
      "Loss: 0.00097233517\n",
      "Paso #140 A=[[9.859232]]\n",
      "Loss: 5.9762654\n",
      "Paso #145 A=[[9.927384]]\n",
      "Loss: 1.5012008\n",
      "Paso #150 A=[[9.760852]]\n",
      "Loss: 2.7698722\n",
      "Paso #155 A=[[9.768905]]\n",
      "Loss: 1.1991906\n",
      "Paso #160 A=[[9.676511]]\n",
      "Loss: 0.500951\n",
      "Paso #165 A=[[9.7732935]]\n",
      "Loss: 0.30473247\n",
      "Paso #170 A=[[9.761494]]\n",
      "Loss: 2.3460674\n",
      "Paso #175 A=[[9.849055]]\n",
      "Loss: 0.24975115\n",
      "Paso #180 A=[[9.827102]]\n",
      "Loss: 0.036990967\n",
      "Paso #185 A=[[9.935376]]\n",
      "Loss: 0.8001213\n",
      "Paso #190 A=[[10.045111]]\n",
      "Loss: 0.0090522505\n",
      "Paso #195 A=[[10.013515]]\n",
      "Loss: 0.63594943\n",
      "Paso #200 A=[[10.073732]]\n",
      "Loss: 0.58935624\n"
     ]
    }
   ],
   "source": [
    "loss_stochastic = []\n",
    "for i in range(200):\n",
    "    rand_index = np.random.choice(200, size=1)\n",
    "    rand_x = [x_vals[rand_index]]\n",
    "    rand_y = [y_vals[rand_index]]\n",
    "    session.run(train_step, feed_dict={x_data:rand_x, y_target:rand_y})\n",
    "    if (i+1)%5 == 0:\n",
    "        print(\"Paso #\"+str(i+1)+' A='+str(session.run(A)))\n",
    "        temp_loss = session.run(loss, feed_dict={x_data:rand_x, y_target:rand_y})\n",
    "        print(\"Loss: \"+str(temp_loss))\n",
    "        loss_stochastic.append(temp_loss)"
   ]
  },
  {
   "cell_type": "code",
   "execution_count": 37,
   "metadata": {},
   "outputs": [
    {
     "data": {
      "image/png": "[encoded data removed]",
      "text/plain": [
       "<Figure size 432x288 with 1 Axes>"
      ]
     },
     "metadata": {
      "needs_background": "light"
     },
     "output_type": "display_data"
    }
   ],
   "source": [
    "plt.plot(range(0,200,5), loss_stochastic, 'b-', label=\"Etrenamiento estocastico\")\n",
    "plt.plot(range(0,200,5), loss_batch, 'r--', label=\"Entrenamiento por bloques de 25\")\n",
    "plt.legend(loc=\"upper right\", prop={'size':10})\n",
    "plt.show()"
   ]
  },
  {
   "cell_type": "code",
   "execution_count": null,
   "metadata": {},
   "outputs": [],
   "source": []
  }
 ],
 "metadata": {
  "kernelspec": {
   "display_name": "Python 3",
   "language": "python",
   "name": "python3"
  },
  "language_info": {
   "codemirror_mode": {
    "name": "ipython",
    "version": 3
   },
   "file_extension": ".py",
   "mimetype": "text/x-python",
   "name": "python",
   "nbconvert_exporter": "python",
   "pygments_lexer": "ipython3",
   "version": "3.6.8"
  }
 },
 "nbformat": 4,
 "nbformat_minor": 2
}
