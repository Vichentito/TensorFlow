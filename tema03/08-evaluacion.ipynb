{
 "cells": [
  {
   "cell_type": "markdown",
   "metadata": {},
   "source": [
    "# Evaluacion de modelos"
   ]
  },
  {
   "cell_type": "code",
   "execution_count": 18,
   "metadata": {},
   "outputs": [],
   "source": [
    "import tensorflow as tf\n",
    "import numpy as np\n",
    "import matplotlib.pyplot as plt\n",
    "session = tf.Session()"
   ]
  },
  {
   "cell_type": "markdown",
   "metadata": {},
   "source": [
    "## Caso de regresion"
   ]
  },
  {
   "cell_type": "code",
   "execution_count": 19,
   "metadata": {},
   "outputs": [],
   "source": [
    "x_vals = np.random.normal(1.0, 0.1, 200)\n",
    "y_vals = np.repeat(10.0, 200)\n",
    "\n",
    "x_data = tf.placeholder(shape = [None, 1], dtype = tf.float32)\n",
    "y_target = tf.placeholder(shape = [None, 1], dtype = tf.float32)\n",
    "\n",
    "batch_size = 25"
   ]
  },
  {
   "cell_type": "code",
   "execution_count": 20,
   "metadata": {},
   "outputs": [],
   "source": [
    "train_idx = np.random.choice(len(x_vals), size=round(len(x_vals)*0.8),replace=False)"
   ]
  },
  {
   "cell_type": "code",
   "execution_count": 21,
   "metadata": {},
   "outputs": [
    {
     "data": {
      "text/plain": [
       "array([ 71, 103,  34,  61,  13, 199,  68,  48,  11,  82,  44, 106, 186,\n",
       "       134,  86, 105, 179, 137,  39, 112, 107,   8, 167, 100, 194,  81,\n",
       "        12, 153,  52, 109,  59, 163,  64, 142, 160,  72, 121, 122,  74,\n",
       "        27,  22, 154,  79,  98, 155, 147,  26, 162, 170, 113,  56,  73,\n",
       "       191, 144, 150,  20,  46,  76, 127, 123,  54, 164,  40,  57,  17,\n",
       "       165,  63,  23,  66, 110,   6, 145,  65,  21, 157, 138, 104, 130,\n",
       "       188, 178, 156, 114,  16, 136,  30,  92, 195, 102,  43,   1, 177,\n",
       "         3, 190, 126, 182, 174,  38,  14,  15,  19, 161, 192,  35, 158,\n",
       "        85, 184, 143, 183,  87, 115,   4, 198,   5,  58,  60,  55, 171,\n",
       "        37,  28,  45,  80, 169,  69,  83,  91,   0, 108,  47, 187, 189,\n",
       "        50, 117, 140,  94, 132, 118,   7, 180,  41,  29, 139, 166, 196,\n",
       "       141,  53,  75,  36, 175,  49, 151, 124,  51,  90, 111, 101, 181,\n",
       "       119,  25,  18, 129])"
      ]
     },
     "execution_count": 21,
     "metadata": {},
     "output_type": "execute_result"
    }
   ],
   "source": [
    "train_idx"
   ]
  },
  {
   "cell_type": "code",
   "execution_count": 22,
   "metadata": {},
   "outputs": [],
   "source": [
    "test_idx = np.array(list(set(range(len(x_vals)))-set(train_idx)))"
   ]
  },
  {
   "cell_type": "code",
   "execution_count": 23,
   "metadata": {},
   "outputs": [
    {
     "data": {
      "text/plain": [
       "array([128,   2, 131, 133, 135,   9,  10, 146, 148, 149,  24, 152,  31,\n",
       "        32,  33, 159, 168,  42, 172, 173, 176, 185,  62, 193,  67, 197,\n",
       "        70,  77,  78,  84,  88,  89,  93,  95,  96,  97,  99, 116, 120,\n",
       "       125])"
      ]
     },
     "execution_count": 23,
     "metadata": {},
     "output_type": "execute_result"
    }
   ],
   "source": [
    "test_idx"
   ]
  },
  {
   "cell_type": "code",
   "execution_count": 24,
   "metadata": {},
   "outputs": [],
   "source": [
    "x_vals_train = x_vals[train_idx]\n",
    "x_vals_test = x_vals[test_idx]\n",
    "y_vals_train = y_vals[train_idx]\n",
    "y_vals_test = y_vals[test_idx]\n",
    "A = tf.Variable(tf.random_normal(shape=[1,1]))"
   ]
  },
  {
   "cell_type": "code",
   "execution_count": 25,
   "metadata": {},
   "outputs": [],
   "source": [
    "my_prediction = tf.matmul(x_data, A)\n",
    "loss = tf.reduce_mean(tf.square(my_prediction-y_target))\n",
    "my_optim = tf.train.GradientDescentOptimizer(learning_rate=0.02)\n",
    "train_step = my_optim.minimize(loss)\n",
    "init = tf.global_variables_initializer()\n",
    "session.run(init)"
   ]
  },
  {
   "cell_type": "code",
   "execution_count": 26,
   "metadata": {},
   "outputs": [
    {
     "name": "stdout",
     "output_type": "stream",
     "text": [
      "Paso #20, A=[[4.71835]], Loss =27.40543\n",
      "Paso #40, A=[[7.6253953]], Loss =5.398242\n",
      "Paso #60, A=[[8.908709]], Loss =2.2124093\n",
      "Paso #80, A=[[9.453235]], Loss =1.2219701\n",
      "Paso #100, A=[[9.7185755]], Loss =0.9732567\n",
      "Paso #120, A=[[9.804294]], Loss =0.82157624\n",
      "Paso #140, A=[[9.853465]], Loss =0.5747979\n",
      "Paso #160, A=[[9.808698]], Loss =0.60115075\n",
      "Paso #180, A=[[9.827455]], Loss =0.89279366\n",
      "Paso #200, A=[[9.833421]], Loss =0.70866483\n",
      "Paso #220, A=[[9.839203]], Loss =1.1625901\n",
      "Paso #240, A=[[9.847586]], Loss =0.78613925\n",
      "Paso #260, A=[[9.850896]], Loss =0.7161538\n",
      "Paso #280, A=[[9.832524]], Loss =0.7848965\n",
      "Paso #300, A=[[9.864699]], Loss =0.9271405\n"
     ]
    }
   ],
   "source": [
    "for i in range(300):\n",
    "    rand_idx = np.random.choice(len(x_vals_train), size=batch_size)\n",
    "    rand_x = np.transpose([x_vals_train[rand_idx]])\n",
    "    rand_y = np.transpose([y_vals_train[rand_idx]])\n",
    "    session.run(train_step, feed_dict={x_data : rand_x, y_target: rand_y})\n",
    "    if (i+1)%20==0:\n",
    "        print('Paso #'+str(i+1)+ \", A=\"+str(session.run(A))+\", Loss =\"+\n",
    "              str(session.run(loss, feed_dict={x_data:rand_x, y_target:rand_y})))"
   ]
  },
  {
   "cell_type": "markdown",
   "metadata": {},
   "source": [
    "### Evaluación del modelo con MSE"
   ]
  },
  {
   "cell_type": "code",
   "execution_count": 27,
   "metadata": {},
   "outputs": [
    {
     "name": "stdout",
     "output_type": "stream",
     "text": [
      "MSE en el conjunto de entrenamiento 0.815\n",
      "MSE en el conjunto de testing 0.795\n"
     ]
    }
   ],
   "source": [
    "mse_train = session.run(loss, feed_dict={x_data: np.transpose([x_vals_train]), y_target: np.transpose([y_vals_train])})\n",
    "mse_test = session.run(loss, feed_dict={x_data: np.transpose([x_vals_test]), y_target: np.transpose([y_vals_test])})\n",
    "print(\"MSE en el conjunto de entrenamiento \"+str(np.round(mse_train, 3)))\n",
    "print(\"MSE en el conjunto de testing \"+str(np.round(mse_test, 3)))"
   ]
  },
  {
   "cell_type": "markdown",
   "metadata": {},
   "source": [
    "## Caso de clasificación"
   ]
  },
  {
   "cell_type": "code",
   "execution_count": 40,
   "metadata": {},
   "outputs": [],
   "source": [
    "from tensorflow.python.framework import ops\n",
    "ops.reset_default_graph()\n",
    "session = tf.Session()"
   ]
  },
  {
   "cell_type": "code",
   "execution_count": 41,
   "metadata": {},
   "outputs": [],
   "source": [
    "batch_size = 25\n",
    "x_vals = np.concatenate((np.random.normal(-2,1,100), np.random.normal(2,1,100)))\n",
    "y_vals = np.concatenate((np.repeat(0.0, 100), np.repeat(1.0,100)))\n",
    "\n",
    "x_data = tf.placeholder(shape=[1,None], dtype=tf.float32)\n",
    "y_target = tf.placeholder(shape=[1,None], dtype = tf.float32)"
   ]
  },
  {
   "cell_type": "code",
   "execution_count": 42,
   "metadata": {},
   "outputs": [],
   "source": [
    "train_idx = np.random.choice(len(x_vals), size=round(len(x_vals)*0.8), replace=False)\n",
    "test_idx = np.array(list(set(range(len(x_vals)))-set(train_idx)))"
   ]
  },
  {
   "cell_type": "code",
   "execution_count": 43,
   "metadata": {},
   "outputs": [],
   "source": [
    "x_vals_train = x_vals[train_idx]\n",
    "x_vals_test = x_vals[test_idx]\n",
    "y_vals_train = y_vals[train_idx]\n",
    "y_vals_test = y_vals[test_idx]\n",
    "A = tf.Variable(tf.random_normal(mean=10, shape=[1]))"
   ]
  },
  {
   "cell_type": "code",
   "execution_count": 44,
   "metadata": {},
   "outputs": [],
   "source": [
    "my_prediction = tf.add(x_data, A)\n",
    "init = tf.global_variables_initializer()\n",
    "session.run(init)"
   ]
  },
  {
   "cell_type": "code",
   "execution_count": 45,
   "metadata": {},
   "outputs": [],
   "source": [
    "xentropy = tf.reduce_mean(tf.nn.sigmoid_cross_entropy_with_logits(logits=my_prediction, labels=y_target))\n",
    "my_optim = tf.train.GradientDescentOptimizer(learning_rate=0.05)\n",
    "train_step = my_optim.minimize(xentropy)"
   ]
  },
  {
   "cell_type": "code",
   "execution_count": 46,
   "metadata": {},
   "outputs": [
    {
     "name": "stdout",
     "output_type": "stream",
     "text": [
      "Paso #100, A = [6.194981]Loss = 1.4342675\n",
      "Paso #200, A = [3.7817934]Loss = 1.4343911\n",
      "Paso #300, A = [2.0928981]Loss = 0.5885054\n",
      "Paso #400, A = [1.1028663]Loss = 0.28060263\n",
      "Paso #500, A = [0.5879506]Loss = 0.21589833\n",
      "Paso #600, A = [0.32555073]Loss = 0.177493\n",
      "Paso #700, A = [0.18313445]Loss = 0.19284311\n",
      "Paso #800, A = [0.094752]Loss = 0.18268223\n",
      "Paso #900, A = [0.04040843]Loss = 0.19735427\n",
      "Paso #1000, A = [0.02750162]Loss = 0.16215971\n",
      "Paso #1100, A = [0.06073669]Loss = 0.2388901\n",
      "Paso #1200, A = [0.03344138]Loss = 0.21021333\n",
      "Paso #1300, A = [0.00033472]Loss = 0.19733359\n",
      "Paso #1400, A = [-0.00217024]Loss = 0.22913584\n",
      "Paso #1500, A = [0.00841406]Loss = 0.2564553\n",
      "Paso #1600, A = [0.01906986]Loss = 0.11860316\n",
      "Paso #1700, A = [0.01791268]Loss = 0.19151197\n",
      "Paso #1800, A = [0.02133212]Loss = 0.19095096\n",
      "Paso #1900, A = [0.00237528]Loss = 0.19618587\n",
      "Paso #2000, A = [-0.01209251]Loss = 0.18718174\n"
     ]
    }
   ],
   "source": [
    "for i in range(2000):\n",
    "    rand_idx = np.random.choice(len(x_vals_train), size=batch_size)\n",
    "    rand_x = [x_vals_train[rand_idx]]\n",
    "    rand_y = [y_vals_train[rand_idx]]\n",
    "    session.run(train_step, feed_dict={x_data:rand_x, y_target:rand_y})\n",
    "    if(i+1)%100==0:\n",
    "        print(\"Paso #\"+str(i+1)+\", A = \"+str(session.run(A))+\n",
    "             \"Loss = \"+str(session.run(xentropy, feed_dict={x_data: rand_x, y_target:rand_y})))"
   ]
  },
  {
   "cell_type": "markdown",
   "metadata": {},
   "source": [
    "### Evaluar el modelo con la precisión (Accuracy)"
   ]
  },
  {
   "cell_type": "code",
   "execution_count": 47,
   "metadata": {},
   "outputs": [],
   "source": [
    "y_prediction = tf.squeeze(tf.round(tf.nn.sigmoid(tf.add(x_data, A))))\n",
    "correct_prediction = tf.equal(y_prediction, y_target)\n",
    "accuracy = tf.reduce_mean(tf.cast(correct_prediction, tf.float32))"
   ]
  },
  {
   "cell_type": "code",
   "execution_count": 48,
   "metadata": {},
   "outputs": [],
   "source": [
    "acc_train = session.run(accuracy, feed_dict={x_data:[x_vals_train], y_target: [y_vals_train]})\n",
    "acc_test = session.run(accuracy, feed_dict={x_data:[x_vals_test], y_target: [y_vals_test]})"
   ]
  },
  {
   "cell_type": "code",
   "execution_count": 49,
   "metadata": {},
   "outputs": [
    {
     "name": "stdout",
     "output_type": "stream",
     "text": [
      "Precisión en el conjunto de entrenamiento: 0.98125\n",
      "Precisión en el conjunto de testing: 0.975\n"
     ]
    }
   ],
   "source": [
    "print(\"Precisión en el conjunto de entrenamiento: \"+str(acc_train))\n",
    "print(\"Precisión en el conjunto de testing: \"+ str(acc_test))"
   ]
  },
  {
   "cell_type": "markdown",
   "metadata": {},
   "source": [
    "## Visualizacion"
   ]
  },
  {
   "cell_type": "code",
   "execution_count": 50,
   "metadata": {},
   "outputs": [
    {
     "data": {
      "text/plain": [
       "array([-0.01209251], dtype=float32)"
      ]
     },
     "execution_count": 50,
     "metadata": {},
     "output_type": "execute_result"
    }
   ],
   "source": [
    "A_result = session.run(A)\n",
    "A_result"
   ]
  },
  {
   "cell_type": "code",
   "execution_count": 51,
   "metadata": {},
   "outputs": [
    {
     "data": {
      "image/png": "[encoded data removed]",
      "text/plain": [
       "<Figure size 432x288 with 1 Axes>"
      ]
     },
     "metadata": {
      "needs_background": "light"
     },
     "output_type": "display_data"
    }
   ],
   "source": [
    "bins = np.linspace(-5,5,50)\n",
    "plt.hist(x_vals[0:100], bins, alpha=0.5, label = \"N(-2,1)\", color=\"red\")\n",
    "plt.hist(x_vals[100:200], bins, alpha=0.5, label=\"N(2,1)\", color=\"yellow\")\n",
    "plt.plot((A_result, A_result), (0, 10), \"k--\", linewidth = 4, label = \"A \"+str(np.round(A_result,2)))\n",
    "plt.legend(loc=\"upper right\")\n",
    "plt.title(\"Clasificador Binario de Precisión \"+str(np.round(acc_train,2)))\n",
    "plt.show()"
   ]
  },
  {
   "cell_type": "code",
   "execution_count": null,
   "metadata": {},
   "outputs": [],
   "source": []
  }
 ],
 "metadata": {
  "kernelspec": {
   "display_name": "Python 3",
   "language": "python",
   "name": "python3"
  },
  "language_info": {
   "codemirror_mode": {
    "name": "ipython",
    "version": 3
   },
   "file_extension": ".py",
   "mimetype": "text/x-python",
   "name": "python",
   "nbconvert_exporter": "python",
   "pygments_lexer": "ipython3",
   "version": "3.6.8"
  }
 },
 "nbformat": 4,
 "nbformat_minor": 2
}
