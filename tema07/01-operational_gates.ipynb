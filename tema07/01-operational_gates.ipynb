{
 "cells": [
  {
   "cell_type": "markdown",
   "metadata": {},
   "source": [
    "# Puertas lógicas"
   ]
  },
  {
   "cell_type": "code",
   "execution_count": 2,
   "metadata": {},
   "outputs": [],
   "source": [
    "import tensorflow as tf"
   ]
  },
  {
   "cell_type": "markdown",
   "metadata": {},
   "source": [
    "# $$f(x) = a\\cdot x$$"
   ]
  },
  {
   "cell_type": "code",
   "execution_count": 14,
   "metadata": {},
   "outputs": [],
   "source": [
    "session = tf.Session()"
   ]
  },
  {
   "cell_type": "code",
   "execution_count": 15,
   "metadata": {},
   "outputs": [],
   "source": [
    "a = tf.Variable(tf.constant(4.0))\n",
    "x_val = 5.0\n",
    "x_data = tf.placeholder(dtype=tf.float32)"
   ]
  },
  {
   "cell_type": "code",
   "execution_count": 16,
   "metadata": {},
   "outputs": [],
   "source": [
    "multiplication = tf.multiply(a,x_data)"
   ]
  },
  {
   "cell_type": "markdown",
   "metadata": {},
   "source": [
    "$$loss = (a\\cdot x - target)^2$$"
   ]
  },
  {
   "cell_type": "code",
   "execution_count": 17,
   "metadata": {},
   "outputs": [],
   "source": [
    "loss = tf.square(tf.subtract(multiplication, 50.0)) ##L2"
   ]
  },
  {
   "cell_type": "code",
   "execution_count": 18,
   "metadata": {},
   "outputs": [],
   "source": [
    "init = tf.global_variables_initializer()\n",
    "session.run(init)"
   ]
  },
  {
   "cell_type": "code",
   "execution_count": 19,
   "metadata": {},
   "outputs": [],
   "source": [
    "optim = tf.train.GradientDescentOptimizer(0.01)\n",
    "train_step = optim.minimize(loss)"
   ]
  },
  {
   "cell_type": "code",
   "execution_count": 20,
   "metadata": {},
   "outputs": [
    {
     "name": "stdout",
     "output_type": "stream",
     "text": [
      "Optimizacion del valor de a para conseguir a*5=50\n",
      "7.0x5.0=35.0\n",
      "8.5x5.0=42.5\n",
      "9.25x5.0=46.25\n",
      "9.625x5.0=48.125\n",
      "9.8125x5.0=49.0625\n",
      "9.90625x5.0=49.53125\n",
      "9.953125x5.0=49.765625\n",
      "9.9765625x5.0=49.882812\n",
      "9.988281x5.0=49.941406\n",
      "9.994141x5.0=49.970703\n"
     ]
    }
   ],
   "source": [
    "print(\"Optimizacion del valor de a para conseguir a*5=50\")\n",
    "for i in range(10):\n",
    "    session.run(train_step, feed_dict={x_data: x_val})\n",
    "    a_val = session.run(a)\n",
    "    mult_out = session.run(multiplication, feed_dict={x_data:x_val})\n",
    "    print(str(a_val) + \"x\" + str(x_val) + \"=\" + str(mult_out))"
   ]
  },
  {
   "cell_type": "markdown",
   "metadata": {},
   "source": [
    "## $$f(x) = a\\cdot x + b $$\n",
    "### ¿Qué tiene que valer $a$ y $b$ para que $f(5) = 50.0$?"
   ]
  },
  {
   "cell_type": "code",
   "execution_count": 21,
   "metadata": {},
   "outputs": [],
   "source": [
    "from tensorflow.python.framework import ops \n",
    "ops.reset_default_graph()"
   ]
  },
  {
   "cell_type": "code",
   "execution_count": 47,
   "metadata": {},
   "outputs": [],
   "source": [
    "session = tf.Session()"
   ]
  },
  {
   "cell_type": "code",
   "execution_count": 48,
   "metadata": {},
   "outputs": [],
   "source": [
    "a = tf.Variable(tf.constant(1.0))\n",
    "b = tf.Variable(tf.constant(1.0))\n",
    "x_val = 5.0\n",
    "x_data = tf.placeholder(dtype=tf.float32)"
   ]
  },
  {
   "cell_type": "code",
   "execution_count": 49,
   "metadata": {},
   "outputs": [],
   "source": [
    "multiplication = tf.multiply(a,x_data)\n",
    "final_sum = tf.add(multiplication, b)"
   ]
  },
  {
   "cell_type": "code",
   "execution_count": 50,
   "metadata": {},
   "outputs": [],
   "source": [
    "loss = tf.square(tf.subtract(final_sum, 50.0)) ##L2"
   ]
  },
  {
   "cell_type": "code",
   "execution_count": 51,
   "metadata": {},
   "outputs": [],
   "source": [
    "init = tf.global_variables_initializer()\n",
    "session.run(init)"
   ]
  },
  {
   "cell_type": "code",
   "execution_count": 52,
   "metadata": {},
   "outputs": [],
   "source": [
    "optim = tf.train.GradientDescentOptimizer(0.01)\n",
    "train_step = optim.minimize(loss)"
   ]
  },
  {
   "cell_type": "code",
   "execution_count": 53,
   "metadata": {},
   "outputs": [
    {
     "name": "stdout",
     "output_type": "stream",
     "text": [
      "Optimizacion del valor de a para conseguir a*5+b=50\n",
      "5.4 x 5.0 + 1.88 = 28.88\n",
      "7.512 x 5.0 + 2.3024 = 39.8624\n",
      "8.52576 x 5.0 + 2.5051522 = 45.133953\n",
      "9.012364 x 5.0 + 2.6024733 = 47.664295\n",
      "9.2459345 x 5.0 + 2.6491873 = 48.87886\n",
      "9.358048 x 5.0 + 2.67161 = 49.461853\n",
      "9.411863 x 5.0 + 2.682373 = 49.74169\n",
      "9.437695 x 5.0 + 2.687539 = 49.87601\n",
      "9.450093 x 5.0 + 2.690019 = 49.940483\n",
      "9.456045 x 5.0 + 2.6912093 = 49.971436\n"
     ]
    }
   ],
   "source": [
    "print(\"Optimizacion del valor de a para conseguir a*5+b=50\")\n",
    "for i in range(10):\n",
    "    session.run(train_step, feed_dict={x_data: x_val})\n",
    "    a_val = session.run(a)\n",
    "    b_val = session.run(b)\n",
    "    sum_out = session.run(final_sum, feed_dict={x_data:x_val})\n",
    "    print(str(a_val) + \" x \" + str(x_val) + \" + \" + str(b_val) + \" = \" + str(sum_out))"
   ]
  },
  {
   "cell_type": "code",
   "execution_count": null,
   "metadata": {},
   "outputs": [],
   "source": []
  }
 ],
 "metadata": {
  "kernelspec": {
   "display_name": "Python 3",
   "language": "python",
   "name": "python3"
  },
  "language_info": {
   "codemirror_mode": {
    "name": "ipython",
    "version": 3
   },
   "file_extension": ".py",
   "mimetype": "text/x-python",
   "name": "python",
   "nbconvert_exporter": "python",
   "pygments_lexer": "ipython3",
   "version": "3.6.8"
  }
 },
 "nbformat": 4,
 "nbformat_minor": 2
}
