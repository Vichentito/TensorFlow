{
 "cells": [
  {
   "cell_type": "markdown",
   "metadata": {},
   "source": [
    "# Red neuronal multicapa para predecir el bajo peso de un recién nacido"
   ]
  },
  {
   "cell_type": "code",
   "execution_count": 1,
   "metadata": {},
   "outputs": [],
   "source": [
    "import tensorflow as tf\n",
    "import matplotlib.pyplot as plt\n",
    "import requests\n",
    "import numpy as np"
   ]
  },
  {
   "cell_type": "code",
   "execution_count": 2,
   "metadata": {},
   "outputs": [],
   "source": [
    "session = tf.Session()"
   ]
  },
  {
   "cell_type": "code",
   "execution_count": 3,
   "metadata": {},
   "outputs": [],
   "source": [
    "url = \"https://raw.githubusercontent.com/joanby/tensorflow/master/datasets/birthweight.dat?token=AMRAeLOMrOCZKT3UgcdcA3VC4ep-4pYNks5cb-CGwA%3D%3D\"\n",
    "birth_file = requests.get(url)\n",
    "birth_data = birth_file.text.split('\\r\\n')\n",
    "birth_header = birth_data[0].split('\\t')\n",
    "birth_data = [[float(x) for x in y.split('\\t') if len(x)>=1] for y in birth_data[1:] if len(y)>=1]"
   ]
  },
  {
   "cell_type": "code",
   "execution_count": 4,
   "metadata": {},
   "outputs": [
    {
     "data": {
      "text/plain": [
       "['LOW', 'AGE', 'LWT', 'RACE', 'SMOKE', 'PTL', 'HT', 'UI', 'BWT']"
      ]
     },
     "execution_count": 4,
     "metadata": {},
     "output_type": "execute_result"
    }
   ],
   "source": [
    "birth_header"
   ]
  },
  {
   "cell_type": "code",
   "execution_count": 5,
   "metadata": {},
   "outputs": [],
   "source": [
    "y_vals = np.array([x[8] for x in birth_data])\n",
    "x_vals = np.array([x[1:8] for x in birth_data])"
   ]
  },
  {
   "cell_type": "code",
   "execution_count": 6,
   "metadata": {},
   "outputs": [],
   "source": [
    "seed = 2019\n",
    "tf.set_random_seed(seed)\n",
    "np.random.seed(seed)\n",
    "batch_size = 100"
   ]
  },
  {
   "cell_type": "code",
   "execution_count": 7,
   "metadata": {},
   "outputs": [],
   "source": [
    "train_idx = np.random.choice(len(x_vals), round(len(x_vals)*0.8), replace=False)\n",
    "test_idx = np.array(list(set(range(len(x_vals)))-set(train_idx)))"
   ]
  },
  {
   "cell_type": "code",
   "execution_count": 8,
   "metadata": {},
   "outputs": [],
   "source": [
    "x_vals_train = x_vals[train_idx]\n",
    "x_vals_test = x_vals[test_idx]\n",
    "y_vals_train = y_vals[train_idx]\n",
    "y_vals_test = y_vals[test_idx]"
   ]
  },
  {
   "cell_type": "code",
   "execution_count": 9,
   "metadata": {},
   "outputs": [],
   "source": [
    "def normalize_cols(m, col_min = np.array([None]), col_max = np.array([None])):\n",
    "    if not col_min[0]:\n",
    "        col_min = m.min(axis=0)\n",
    "    if not col_max[0]:\n",
    "        col_max = m.max(axis=0)\n",
    "    return(m-col_min)/(col_max-col_min), col_min, col_max"
   ]
  },
  {
   "cell_type": "code",
   "execution_count": 10,
   "metadata": {},
   "outputs": [],
   "source": [
    "x_vals_train, train_min, train_max = np.nan_to_num(normalize_cols(x_vals_train))\n",
    "x_vals_test,_,_ = np.nan_to_num(normalize_cols(x_vals_test, train_min, train_max))"
   ]
  },
  {
   "cell_type": "code",
   "execution_count": 11,
   "metadata": {},
   "outputs": [],
   "source": [
    "def init_weight(shape, st_dev):\n",
    "    weight = tf.Variable(tf.random_normal(shape = shape, stddev=st_dev))\n",
    "    return weight\n",
    "\n",
    "def init_bias(shape, st_dev):\n",
    "    bias = tf.Variable(tf.random_normal(shape = shape, stddev=st_dev))\n",
    "    return bias"
   ]
  },
  {
   "cell_type": "code",
   "execution_count": 12,
   "metadata": {},
   "outputs": [],
   "source": [
    "x_data = tf.placeholder(shape=[None, 7], dtype = tf.float32)\n",
    "y_target = tf.placeholder(shape=[None, 1], dtype=tf.float32)"
   ]
  },
  {
   "cell_type": "code",
   "execution_count": 13,
   "metadata": {},
   "outputs": [],
   "source": [
    "def full_connected(input_layer, weights, biases):\n",
    "    layer = tf.add(tf.matmul(input_layer, weights), biases)\n",
    "    return(layer)"
   ]
  },
  {
   "cell_type": "markdown",
   "metadata": {},
   "source": [
    "- Dato de entrada: 7 -> capa oculta 1: 25, la capa tiene 7*25+25 = 200 variables\n",
    "- Capa oculta 1: 25 -> capa oculta 2: 10, la capa tiene 25*10+10 = 260 variables\n",
    "- Capa oculta 2: 10 -> capa oculta 3: 3, la capa tiene 10*3+3 = 33 variables\n",
    "- Capa oculta 3: 3 -> Capa de Salida: 1, la capa tiene 3*1+1 = 4 variables\n",
    "\n",
    "En total la red neuronal tiene que estimar 200+260+33+4 = 497 variables"
   ]
  },
  {
   "cell_type": "code",
   "execution_count": 14,
   "metadata": {},
   "outputs": [
    {
     "name": "stdout",
     "output_type": "stream",
     "text": [
      "WARNING:tensorflow:From C:\\Users\\chent\\.conda\\envs\\python6\\lib\\site-packages\\tensorflow\\python\\framework\\op_def_library.py:263: colocate_with (from tensorflow.python.framework.ops) is deprecated and will be removed in a future version.\n",
      "Instructions for updating:\n",
      "Colocations handled automatically by placer.\n"
     ]
    }
   ],
   "source": [
    "w1 = init_weight(shape=[7,25], st_dev=10.0)\n",
    "b1 = init_bias(shape=[25], st_dev=10.0)\n",
    "layer1 = full_connected(x_data, w1, b1) \n",
    "\n",
    "w2 = init_weight(shape=[25,10], st_dev=10.0)\n",
    "b2 = init_bias(shape=[10], st_dev=10.0)\n",
    "layer2 = full_connected(layer1, w2, b2)\n",
    "\n",
    "w3 = init_weight(shape=[10,3], st_dev=10.0)\n",
    "b3 = init_bias(shape=[3], st_dev=10.0)\n",
    "layer3 = full_connected(layer2, w3, b3)\n",
    "\n",
    "w4 = init_weight(shape=[3,1], st_dev=10.0)\n",
    "b4 = init_bias(shape=[1], st_dev=10.0)\n",
    "layer4 = full_connected(layer3, w4, b4) "
   ]
  },
  {
   "cell_type": "code",
   "execution_count": 15,
   "metadata": {},
   "outputs": [],
   "source": [
    "loss = tf.reduce_mean(tf.abs(y_target-layer4))\n",
    "my_optim = tf.train.AdamOptimizer(0.05)\n",
    "train_step = my_optim.minimize(loss)\n",
    "init = tf.global_variables_initializer()\n",
    "session.run(init)"
   ]
  },
  {
   "cell_type": "code",
   "execution_count": 16,
   "metadata": {},
   "outputs": [
    {
     "name": "stdout",
     "output_type": "stream",
     "text": [
      "Paso #25, Loss = 41562.305\n",
      "Paso #50, Loss = 14346.102\n",
      "Paso #75, Loss = 4732.866\n",
      "Paso #100, Loss = 1470.9982\n",
      "Paso #125, Loss = 1855.4222\n",
      "Paso #150, Loss = 1877.7377\n",
      "Paso #175, Loss = 1209.0236\n",
      "Paso #200, Loss = 913.3169\n",
      "Paso #225, Loss = 1560.2384\n",
      "Paso #250, Loss = 2169.3904\n",
      "Paso #275, Loss = 1746.2041\n",
      "Paso #300, Loss = 2616.8875\n"
     ]
    }
   ],
   "source": [
    "loss_vects = []\n",
    "test_loss = []\n",
    "for i in range(300):\n",
    "    rand_idx = np.random.choice(len(x_vals_train), size = batch_size)\n",
    "    rand_x = x_vals_train[rand_idx]\n",
    "    rand_y = np.transpose([y_vals_train[rand_idx]])\n",
    "    \n",
    "    session.run(train_step, feed_dict={x_data: rand_x, y_target: rand_y})\n",
    "    \n",
    "    temp_loss = session.run(loss, feed_dict={x_data: rand_x, y_target: rand_y})\n",
    "    loss_vects.append(temp_loss)\n",
    "    \n",
    "    test_temp_loss = session.run(loss, feed_dict={x_data: x_vals_test, y_target: np.transpose([y_vals_test])})\n",
    "    test_loss.append(test_temp_loss)\n",
    "    \n",
    "    if(i+1)%25==0:\n",
    "        print(\"Paso #\"+str(i+1)+\", Loss = \"+str(temp_loss))"
   ]
  },
  {
   "cell_type": "code",
   "execution_count": 17,
   "metadata": {},
   "outputs": [
    {
     "data": {
      "image/png": "[encoded data removed]",
      "text/plain": [
       "<Figure size 432x288 with 1 Axes>"
      ]
     },
     "metadata": {
      "needs_background": "light"
     },
     "output_type": "display_data"
    }
   ],
   "source": [
    "plt.plot(loss_vects, 'r-', label=\"Pérdidas en Entrenamiento\")\n",
    "plt.plot(test_loss, 'b-.', label=\"Pérdidas en Test\")\n",
    "plt.title(\"Pérdida por iteración\")\n",
    "plt.xlabel(\"Iteración\")\n",
    "plt.ylabel(\"Pérdidas (L1)\")\n",
    "plt.legend(loc=\"upper right\")\n",
    "plt.show()"
   ]
  },
  {
   "cell_type": "code",
   "execution_count": 18,
   "metadata": {},
   "outputs": [],
   "source": [
    "actuals = np.array([x[0] for x in birth_data])\n",
    "test_actuals = actuals[test_idx]\n",
    "train_actuals = actuals[train_idx]\n",
    "test_pred = [x[0] for x in session.run(layer4, feed_dict={x_data:x_vals_test})]\n",
    "train_pred = [x[0] for x in session.run(layer4, feed_dict={x_data:x_vals_train})]\n",
    "test_pred = np.array([1.0 if x<2500.0 else 0.0 for x in test_pred])\n",
    "train_pred = np.array([1.0 if x<2500.0 else 0.0 for x in train_pred])"
   ]
  },
  {
   "cell_type": "code",
   "execution_count": 19,
   "metadata": {},
   "outputs": [],
   "source": [
    "test_acc = np.mean([x==y for x,y in zip(test_pred, test_actuals)])\n",
    "train_acc = np.mean([x==y for x,y in zip(train_pred, train_actuals)])"
   ]
  },
  {
   "cell_type": "code",
   "execution_count": 20,
   "metadata": {},
   "outputs": [
    {
     "data": {
      "text/plain": [
       "0.6842105263157895"
      ]
     },
     "execution_count": 20,
     "metadata": {},
     "output_type": "execute_result"
    }
   ],
   "source": [
    "test_acc"
   ]
  },
  {
   "cell_type": "code",
   "execution_count": 21,
   "metadata": {},
   "outputs": [
    {
     "data": {
      "text/plain": [
       "0.695364238410596"
      ]
     },
     "execution_count": 21,
     "metadata": {},
     "output_type": "execute_result"
    }
   ],
   "source": [
    "train_acc"
   ]
  },
  {
   "cell_type": "code",
   "execution_count": null,
   "metadata": {},
   "outputs": [],
   "source": []
  }
 ],
 "metadata": {
  "kernelspec": {
   "display_name": "Python 3",
   "language": "python",
   "name": "python3"
  },
  "language_info": {
   "codemirror_mode": {
    "name": "ipython",
    "version": 3
   },
   "file_extension": ".py",
   "mimetype": "text/x-python",
   "name": "python",
   "nbconvert_exporter": "python",
   "pygments_lexer": "ipython3",
   "version": "3.6.8"
  }
 },
 "nbformat": 4,
 "nbformat_minor": 2
}
