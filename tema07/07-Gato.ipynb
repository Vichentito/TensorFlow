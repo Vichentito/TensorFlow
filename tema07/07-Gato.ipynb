{
 "cells": [
  {
   "cell_type": "code",
   "execution_count": 2,
   "metadata": {},
   "outputs": [],
   "source": [
    "import tensorflow as tf\n",
    "import matplotlib.pyplot as plt\n",
    "import csv\n",
    "import random \n",
    "import numpy as np"
   ]
  },
  {
   "cell_type": "code",
   "execution_count": 3,
   "metadata": {},
   "outputs": [],
   "source": [
    "batch_size = 50"
   ]
  },
  {
   "cell_type": "code",
   "execution_count": 4,
   "metadata": {},
   "outputs": [],
   "source": [
    "def print_board(board):\n",
    "    symbols = ['O',' ', 'X']\n",
    "    board_plus_1 = [int(x)+1 for x in board]\n",
    "    board_line_1 = '{}|{}|{}'.format(symbols[board_plus_1[0]], symbols[board_plus_1[1]], symbols[board_plus_1[2]])\n",
    "    board_line_2 = '{}|{}|{}'.format(symbols[board_plus_1[3]], symbols[board_plus_1[4]], symbols[board_plus_1[5]])\n",
    "    board_line_3 = '{}|{}|{}'.format(symbols[board_plus_1[6]], symbols[board_plus_1[7]], symbols[board_plus_1[8]])\n",
    "    print(board_line_1)\n",
    "    print('_____')\n",
    "    print(board_line_2)\n",
    "    print('_____')\n",
    "    print(board_line_3)\n",
    "    print('_____')"
   ]
  },
  {
   "cell_type": "code",
   "execution_count": 5,
   "metadata": {},
   "outputs": [
    {
     "name": "stdout",
     "output_type": "stream",
     "text": [
      "O| | \n",
      "_____\n",
      "X|X| \n",
      "_____\n",
      " |O|X\n",
      "_____\n"
     ]
    }
   ],
   "source": [
    "print_board([-1,0,0,1,1,0,0,-1,1])"
   ]
  },
  {
   "cell_type": "code",
   "execution_count": 6,
   "metadata": {},
   "outputs": [],
   "source": [
    "def get_symmetry(board, response, transformation):\n",
    "    '''\n",
    "    :param board: lista de 9 enteros formados por:\n",
    "    - O = -1, símbolo del enemigo\n",
    "    - X =  1, símbolo del jugador\n",
    "    - ' ' = 0, casilla vacía\n",
    "    :param transformation: ona de las cinco transformaciones del tablero:\n",
    "    - rotate90, rotate180, rotate270, flip_v, flip_h\n",
    "    :return: tuple(new_board, new_response)\n",
    "    '''\n",
    "    \n",
    "    if transformation == 'rotate180':\n",
    "        new_response = 8-response\n",
    "        return board[::-1], new_response\n",
    "    \n",
    "    elif transformation == 'rotate90':\n",
    "        new_reponse = [6,3,0,7,4,1,8,5,2].index(response)\n",
    "        tuple_board = list(zip(*[board[6:9], board[3:6], board[0:3]]))\n",
    "        return [value for item in tuple_board for value in item], new_reponse\n",
    "    \n",
    "    elif transformation == 'rotate270':\n",
    "        new_reponse = [2,5,8,1,4,7,0,3,6].index(response)\n",
    "        tuple_board = list(zip(*[board[0:3], board[3:6], board[6:9]]))[::-1]\n",
    "        return [value for item in tuple_board for value in item], new_reponse\n",
    "    \n",
    "    elif transformation == 'flip_v':\n",
    "        new_response = [6,7,8,3,4,5,0,1,2].index(response)\n",
    "        return board[6:9]+board[3:6]+board[0:3], new_response\n",
    "    \n",
    "    elif transformation == 'flip_h':\n",
    "        new_response = [2,1,0,5,4,3,8,7,6].index(response)\n",
    "        new_board = board[::-1]\n",
    "        return new_board[6:9]+new_board[3:6]+new_board[0:3], new_response\n",
    "    \n",
    "    else:\n",
    "        raise ValueError('Este movimiento no está contemplado')"
   ]
  },
  {
   "cell_type": "code",
   "execution_count": 7,
   "metadata": {},
   "outputs": [
    {
     "name": "stdout",
     "output_type": "stream",
     "text": [
      " |X|O\n",
      "_____\n",
      "O|X| \n",
      "_____\n",
      "X| | \n",
      "_____\n"
     ]
    }
   ],
   "source": [
    "print_board(get_symmetry([-1,0,0,1,1,0,0,-1,1], 1, 'rotate90')[0])"
   ]
  },
  {
   "cell_type": "code",
   "execution_count": 8,
   "metadata": {},
   "outputs": [],
   "source": [
    "def get_moves_from_csv(csv_file):\n",
    "    '''\n",
    "    :param csv_file: Fichero CSV con las respuestas para cada configuración esencial de tablero\n",
    "    :return moves: lista de los mejores movimientos posibles del tablero\n",
    "    '''\n",
    "    moves = []\n",
    "    with open(csv_file, 'rt') as csvfile:\n",
    "        reader = csv.reader(csvfile, delimiter=',')\n",
    "        for row in reader:\n",
    "            moves.append(([int(x) for x in row[0:9]], int(row[9])))\n",
    "    return moves"
   ]
  },
  {
   "cell_type": "code",
   "execution_count": 9,
   "metadata": {},
   "outputs": [],
   "source": [
    "moves = get_moves_from_csv(\"../../datasets/moves_tic_tac_toe.csv\")"
   ]
  },
  {
   "cell_type": "code",
   "execution_count": 10,
   "metadata": {},
   "outputs": [],
   "source": [
    "def get_random_move(moves, rand_transforms = 2):\n",
    "    (board, response) = random.choice(moves)\n",
    "    possible_transforms = ['rotate90', 'rotate180', 'rotate270', 'flip_v', 'flip_h']\n",
    "    for i in range(rand_transforms):\n",
    "        random_transform = random.choice(possible_transforms)\n",
    "        (board, response) = get_symmetry(board, response, random_transform)\n",
    "    return board, response"
   ]
  },
  {
   "cell_type": "code",
   "execution_count": 11,
   "metadata": {},
   "outputs": [
    {
     "data": {
      "text/plain": [
       "([0, -1, 1, 0, 1, -1, -1, 0, 0], 0)"
      ]
     },
     "execution_count": 11,
     "metadata": {},
     "output_type": "execute_result"
    }
   ],
   "source": [
    "get_random_move(moves,2)"
   ]
  },
  {
   "cell_type": "code",
   "execution_count": 12,
   "metadata": {},
   "outputs": [],
   "source": [
    "session = tf.Session()"
   ]
  },
  {
   "cell_type": "code",
   "execution_count": 44,
   "metadata": {},
   "outputs": [],
   "source": [
    "train_length = 500\n",
    "train_set = []\n",
    "for i in range(train_length):\n",
    "    train_set.append(get_random_move(moves))"
   ]
  },
  {
   "cell_type": "code",
   "execution_count": 45,
   "metadata": {},
   "outputs": [
    {
     "data": {
      "text/plain": [
       "([0, 1, -1, 0, -1, 0, 0, -1, 1], 6)"
      ]
     },
     "execution_count": 45,
     "metadata": {},
     "output_type": "execute_result"
    }
   ],
   "source": [
    "train_set[0]"
   ]
  },
  {
   "cell_type": "code",
   "execution_count": 46,
   "metadata": {},
   "outputs": [],
   "source": [
    "test_board = [-1,0,0,1,-1,-1,0,0,1] # -> 6"
   ]
  },
  {
   "cell_type": "code",
   "execution_count": 47,
   "metadata": {},
   "outputs": [
    {
     "name": "stdout",
     "output_type": "stream",
     "text": [
      "O| | \n",
      "_____\n",
      "X|O|O\n",
      "_____\n",
      " | |X\n",
      "_____\n"
     ]
    }
   ],
   "source": [
    "print_board(test_board)"
   ]
  },
  {
   "cell_type": "code",
   "execution_count": 48,
   "metadata": {},
   "outputs": [],
   "source": [
    "train_set = [x for x in train_set if x[0]!=test_board]"
   ]
  },
  {
   "cell_type": "code",
   "execution_count": 49,
   "metadata": {},
   "outputs": [],
   "source": [
    "def init_weights(shape):\n",
    "    return tf.Variable(tf.random_normal(shape))"
   ]
  },
  {
   "cell_type": "code",
   "execution_count": 50,
   "metadata": {},
   "outputs": [],
   "source": [
    "def model(X, A1, A2, b1, b2):\n",
    "    layer1 = tf.nn.sigmoid(tf.add(tf.matmul(X,A1),b1))\n",
    "    layer2 = tf.add(tf.matmul(layer1, A2),b2)\n",
    "    return layer2"
   ]
  },
  {
   "cell_type": "code",
   "execution_count": 51,
   "metadata": {},
   "outputs": [],
   "source": [
    "X = tf.placeholder(dtype=tf.float32, shape=[None,9])\n",
    "Y = tf.placeholder(dtype=tf.int32, shape=[None])\n",
    "A1 = init_weights([9, 81])\n",
    "b1 = init_weights([81])\n",
    "A2 = init_weights([81,9])\n",
    "b2 = init_weights([9])\n",
    "model_output = model(X, A1, A2, b1, b2)"
   ]
  },
  {
   "cell_type": "code",
   "execution_count": 80,
   "metadata": {},
   "outputs": [],
   "source": [
    "loss = tf.reduce_mean(tf.nn.sparse_softmax_cross_entropy_with_logits(logits=model_output, labels=Y))\n",
    "train_step = tf.train.AdamOptimizer(0.025).minimize(loss)\n",
    "prediction = tf.argmax(model_output, 1)"
   ]
  },
  {
   "cell_type": "code",
   "execution_count": 81,
   "metadata": {},
   "outputs": [],
   "source": [
    "init = tf.global_variables_initializer()\n",
    "session.run(init)"
   ]
  },
  {
   "cell_type": "code",
   "execution_count": 82,
   "metadata": {},
   "outputs": [
    {
     "name": "stdout",
     "output_type": "stream",
     "text": [
      "Step #500, Loss: 0.35916305\n",
      "Step #1000, Loss: 0.35422844\n",
      "Step #1500, Loss: 0.3084599\n",
      "Step #2000, Loss: 0.27303052\n",
      "Step #2500, Loss: 0.36951354\n",
      "Step #3000, Loss: 0.27967298\n",
      "Step #3500, Loss: 0.45007733\n",
      "Step #4000, Loss: 0.25264496\n",
      "Step #4500, Loss: 0.33732855\n",
      "Step #5000, Loss: 0.43313807\n",
      "Step #5500, Loss: 0.15066718\n",
      "Step #6000, Loss: 0.2616013\n",
      "Step #6500, Loss: 0.53296417\n",
      "Step #7000, Loss: 0.4283545\n",
      "Step #7500, Loss: 0.31724763\n",
      "Step #8000, Loss: 0.26718372\n",
      "Step #8500, Loss: 0.23551121\n",
      "Step #9000, Loss: 0.2612679\n",
      "Step #9500, Loss: 0.28601697\n",
      "Step #10000, Loss: 0.45156926\n",
      "Step #10500, Loss: 0.2512068\n",
      "Step #11000, Loss: 0.25353748\n",
      "Step #11500, Loss: 0.34042913\n",
      "Step #12000, Loss: 0.35490376\n"
     ]
    }
   ],
   "source": [
    "loss_vect = []\n",
    "for i in range(12000):\n",
    "    rand_idx = np.random.choice(range(len(train_set)), batch_size, replace=False)\n",
    "    batch_data = [train_set[i] for i in rand_idx]\n",
    "    x_input = [x[0] for x in batch_data]\n",
    "    y_target = np.array([y[1] for y in batch_data])\n",
    "    session.run(train_step, feed_dict={X:x_input, Y:y_target})\n",
    "    temp_loss = session.run(loss, feed_dict={X:x_input, Y:y_target})\n",
    "    loss_vect.append(temp_loss)\n",
    "    if(i+1)%500==0:\n",
    "        print(\"Step #\"+str(i+1)+\", Loss: \"+str(temp_loss))"
   ]
  },
  {
   "cell_type": "code",
   "execution_count": 83,
   "metadata": {},
   "outputs": [
    {
     "data": {
      "image/png": "[encoded data removed]",
      "text/plain": [
       "<Figure size 432x288 with 1 Axes>"
      ]
     },
     "metadata": {
      "needs_background": "light"
     },
     "output_type": "display_data"
    }
   ],
   "source": [
    "plt.plot(loss_vect, 'k-', label = \"Función de pérdidas\")\n",
    "plt.title(\"MSE por iteración\")\n",
    "plt.show()"
   ]
  },
  {
   "cell_type": "code",
   "execution_count": 84,
   "metadata": {},
   "outputs": [],
   "source": [
    "test_boards = [test_board]\n",
    "feed_dict = {X:test_boards}\n",
    "logits = session.run(model_output, feed_dict=feed_dict)\n",
    "predictions = session.run(prediction, feed_dict=feed_dict)"
   ]
  },
  {
   "cell_type": "code",
   "execution_count": 85,
   "metadata": {},
   "outputs": [
    {
     "name": "stdout",
     "output_type": "stream",
     "text": [
      "[6]\n"
     ]
    }
   ],
   "source": [
    "print(predictions)"
   ]
  },
  {
   "cell_type": "code",
   "execution_count": 86,
   "metadata": {},
   "outputs": [],
   "source": [
    "def check(board):\n",
    "    wins = [[0,1,2], [3,4,5], [6,7,8], [0,3,6], [1,4,7], [2,5,8], [0,4,8], [2,4,6]]\n",
    "    for i in range(len(wins)):\n",
    "        if board[wins[i][0]]==board[wins[i][1]]==board[wins[i][2]]==1.0:\n",
    "            return 1\n",
    "        elif board[wins[i][0]]==board[wins[i][1]]==board[wins[i][2]]==-1.0:\n",
    "            return 1\n",
    "    return 0"
   ]
  },
  {
   "cell_type": "code",
   "execution_count": null,
   "metadata": {},
   "outputs": [
    {
     "name": "stdout",
     "output_type": "stream",
     "text": [
      "Introduce tu posición de juego (0-8): 1\n",
      "El modelo ha movido:\n",
      " |X|O\n",
      "_____\n",
      " | | \n",
      "_____\n",
      " | | \n",
      "_____\n",
      "Introduce tu posición de juego (0-8): 4\n",
      "El modelo ha movido:\n",
      " |X|O\n",
      "_____\n",
      " |X| \n",
      "_____\n",
      "O| | \n",
      "_____\n",
      "Introduce tu posición de juego (0-8): 5\n",
      "El modelo ha movido:\n",
      " |X|O\n",
      "_____\n",
      " |X|X\n",
      "_____\n",
      "O| |O\n",
      "_____\n",
      "Introduce tu posición de juego (0-8): 0\n",
      "El modelo ha movido:\n",
      "X|X|O\n",
      "_____\n",
      "O|X|X\n",
      "_____\n",
      "O| |O\n",
      "_____\n"
     ]
    }
   ],
   "source": [
    "game_tracker = [0,0,0,0,0,0,0,0,0]\n",
    "win_logical = False\n",
    "num_moves = 0\n",
    "while not win_logical:\n",
    "    player_idx = input('Introduce tu posición de juego (0-8): ')\n",
    "    num_moves +=1\n",
    "    game_tracker[int(player_idx)] = 1.0\n",
    "    \n",
    "    [potential_moves] = session.run(model_output, feed_dict={X:[game_tracker]})\n",
    "    allowed_moves = [ix for ix, x in enumerate(game_tracker) if x==0]\n",
    "    model_move = np.argmax([x if ix in allowed_moves else -9999 for ix, x in enumerate(potential_moves)])\n",
    "    game_tracker[int(model_move)] = -1.0\n",
    "    \n",
    "    print(\"El modelo ha movido:\")\n",
    "    print_board(game_tracker)\n",
    "    if check(game_tracker)==1 or num_moves>=5:\n",
    "        print(\"Game Over\")\n",
    "        win_logical = True"
   ]
  },
  {
   "cell_type": "code",
   "execution_count": null,
   "metadata": {},
   "outputs": [],
   "source": []
  }
 ],
 "metadata": {
  "kernelspec": {
   "display_name": "Python 3",
   "language": "python",
   "name": "python3"
  },
  "language_info": {
   "codemirror_mode": {
    "name": "ipython",
    "version": 3
   },
   "file_extension": ".py",
   "mimetype": "text/x-python",
   "name": "python",
   "nbconvert_exporter": "python",
   "pygments_lexer": "ipython3",
   "version": "3.6.8"
  }
 },
 "nbformat": 4,
 "nbformat_minor": 2
}
