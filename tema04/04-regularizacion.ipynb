{
 "cells": [
  {
   "cell_type": "markdown",
   "metadata": {},
   "source": [
    "# Regresion Lasso y Ridge"
   ]
  },
  {
   "cell_type": "markdown",
   "metadata": {},
   "source": [
    "$$ y = Ax + b $$"
   ]
  },
  {
   "cell_type": "code",
   "execution_count": 4,
   "metadata": {},
   "outputs": [],
   "source": [
    "import tensorflow as tf\n",
    "import matplotlib.pyplot as plt\n",
    "import numpy as np\n",
    "from sklearn import datasets"
   ]
  },
  {
   "cell_type": "code",
   "execution_count": 7,
   "metadata": {},
   "outputs": [],
   "source": [
    "session = tf.Session()\n",
    "iris = datasets.load_iris()"
   ]
  },
  {
   "cell_type": "code",
   "execution_count": 18,
   "metadata": {},
   "outputs": [],
   "source": [
    "x_vals = np.array([x[3] for x in iris.data])\n",
    "y_vals = np.array([x[0] for x in iris.data])"
   ]
  },
  {
   "cell_type": "code",
   "execution_count": 19,
   "metadata": {},
   "outputs": [],
   "source": [
    "batch_size = 50\n",
    "learning_rate = 0.001"
   ]
  },
  {
   "cell_type": "code",
   "execution_count": 27,
   "metadata": {},
   "outputs": [],
   "source": [
    "x_data = tf.placeholder(shape = [None, 1], dtype=tf.float32)\n",
    "y_target = tf.placeholder(shape=[None, 1], dtype = tf.float32)\n",
    "A = tf.Variable(tf.random_normal(shape=[1,1]))\n",
    "b = tf.Variable(tf.random_normal(shape=[1,1]))\n",
    "y_pred = tf.add(tf.matmul(x_data, A), b)"
   ]
  },
  {
   "cell_type": "markdown",
   "metadata": {},
   "source": [
    "$$\\sum\\frac{(y_r-y_p)^2}{n} \\frac{99.0}{1+e^{-100(A-0.9)}}$$"
   ]
  },
  {
   "cell_type": "code",
   "execution_count": 28,
   "metadata": {},
   "outputs": [],
   "source": [
    "lasso_param = tf.constant(0.9)\n",
    "heavyside_step = tf.truediv(1.0, tf.add(1.0, tf.exp(tf.multiply(-100.0, tf.subtract(A, lasso_param)))))\n",
    "regularization_params = tf.multiply(heavyside_step, 99.0)\n",
    "loss = tf.add(tf.reduce_mean(tf.square(y_target - y_pred)), regularization_params)"
   ]
  },
  {
   "cell_type": "code",
   "execution_count": 29,
   "metadata": {},
   "outputs": [],
   "source": [
    "init = tf.global_variables_initializer()\n",
    "session.run(init)"
   ]
  },
  {
   "cell_type": "code",
   "execution_count": 30,
   "metadata": {},
   "outputs": [],
   "source": [
    "my_optim = tf.train.GradientDescentOptimizer(learning_rate=learning_rate)\n",
    "train_step = my_optim.minimize(loss)"
   ]
  },
  {
   "cell_type": "code",
   "execution_count": 31,
   "metadata": {},
   "outputs": [
    {
     "name": "stdout",
     "output_type": "stream",
     "text": [
      "Paso #100A = [[0.83077645]], b = [[-0.06248142]]Loss: [[24.067513]]\n",
      "Paso #200A = [[0.83175707]], b = [[0.8263484]]Loss: [[16.744787]]\n",
      "Paso #300A = [[0.82823324]], b = [[1.5543346]]Loss: [[11.638754]]\n",
      "Paso #400A = [[0.82711196]], b = [[2.152967]]Loss: [[7.6277647]]\n",
      "Paso #500A = [[0.82426125]], b = [[2.6428063]]Loss: [[5.264902]]\n",
      "Paso #600A = [[0.8223046]], b = [[3.0444274]]Loss: [[3.6633232]]\n",
      "Paso #700A = [[0.82180095]], b = [[3.3737612]]Loss: [[2.4947288]]\n",
      "Paso #800A = [[0.8191297]], b = [[3.6430948]]Loss: [[1.8492973]]\n",
      "Paso #900A = [[0.8178166]], b = [[3.8662543]]Loss: [[1.387132]]\n",
      "Paso #1000A = [[0.814758]], b = [[4.046611]]Loss: [[0.7899543]]\n",
      "Paso #1100A = [[0.8136741]], b = [[4.195861]]Loss: [[0.6702617]]\n",
      "Paso #1200A = [[0.8110258]], b = [[4.318116]]Loss: [[0.47616458]]\n",
      "Paso #1300A = [[0.8095845]], b = [[4.4188104]]Loss: [[0.42797282]]\n",
      "Paso #1400A = [[0.80789113]], b = [[4.5012217]]Loss: [[0.2670275]]\n",
      "Paso #1500A = [[0.8055493]], b = [[4.5680556]]Loss: [[0.18871765]]\n",
      "Paso #1600A = [[0.8044834]], b = [[4.624245]]Loss: [[0.2501206]]\n",
      "Paso #1700A = [[0.8023144]], b = [[4.6702495]]Loss: [[0.3952978]]\n",
      "Paso #1800A = [[0.80226904]], b = [[4.707768]]Loss: [[0.24222717]]\n",
      "Paso #1900A = [[0.8006029]], b = [[4.7407427]]Loss: [[0.26462635]]\n",
      "Paso #2000A = [[0.7990732]], b = [[4.7678804]]Loss: [[0.17950027]]\n"
     ]
    }
   ],
   "source": [
    "loss_vec = []\n",
    "for i in range(2000):\n",
    "    rand_idx = np.random.choice(len(x_vals), size = batch_size)\n",
    "    rand_x = np.transpose([x_vals[rand_idx]])\n",
    "    rand_y = np.transpose([y_vals[rand_idx]])\n",
    "    session.run(train_step, feed_dict = {x_data: rand_x, y_target: rand_y})\n",
    "    temp_loss = session.run(loss, feed_dict={x_data: rand_x, y_target: rand_y})\n",
    "    loss_vec.append(temp_loss[0])\n",
    "    if(i+1)%100 == 0:\n",
    "        print(\"Paso #\"+str(i+1)+\"A = \"+str(session.run(A))+\", b = \"+str(session.run(b))+\n",
    "             \"Loss: \"+str(temp_loss))"
   ]
  },
  {
   "cell_type": "code",
   "execution_count": 32,
   "metadata": {},
   "outputs": [
    {
     "data": {
      "text/plain": [
       "[<matplotlib.lines.Line2D at 0x22e7c6a39e8>]"
      ]
     },
     "execution_count": 32,
     "metadata": {},
     "output_type": "execute_result"
    },
    {
     "data": {
      "image/png": "[encoded data removed]",
      "text/plain": [
       "<Figure size 432x288 with 1 Axes>"
      ]
     },
     "metadata": {
      "needs_background": "light"
     },
     "output_type": "display_data"
    }
   ],
   "source": [
    "plt.plot(loss_vec, 'k-')"
   ]
  },
  {
   "cell_type": "code",
   "execution_count": 33,
   "metadata": {},
   "outputs": [
    {
     "name": "stdout",
     "output_type": "stream",
     "text": [
      "0.7990732x+4.7678804\n"
     ]
    }
   ],
   "source": [
    "[[slope]] = session.run(A)\n",
    "[[intercept]] = session.run(b)\n",
    "print(str(slope) + \"x+\"+str(intercept))"
   ]
  },
  {
   "cell_type": "code",
   "execution_count": 34,
   "metadata": {},
   "outputs": [],
   "source": [
    "best_fit = []\n",
    "for i in x_vals:\n",
    "    best_fit.append(slope*i+intercept)"
   ]
  },
  {
   "cell_type": "code",
   "execution_count": 35,
   "metadata": {},
   "outputs": [
    {
     "data": {
      "image/png": "[encoded data removed]",
      "text/plain": [
       "<Figure size 432x288 with 1 Axes>"
      ]
     },
     "metadata": {
      "needs_background": "light"
     },
     "output_type": "display_data"
    }
   ],
   "source": [
    "plt.plot(x_vals, y_vals, 'o', label = \"Datos\")\n",
    "plt.plot(x_vals, best_fit, 'r-', label=\"Recta de regresión lasso\", linewidth=3)\n",
    "plt.legend(loc = \"upper left\")\n",
    "plt.title(\"Longitud de sépalos vs Anchura de Pétalos\")\n",
    "plt.xlabel(\"Anchura del Pétalo\")\n",
    "plt.ylabel(\"Longitud del Sépalo\")\n",
    "plt.show()"
   ]
  },
  {
   "cell_type": "markdown",
   "metadata": {},
   "source": [
    "# Regresión Ridge\n",
    "$$\\sum\\frac{(y_r-y_p)^2}{n}+ridge_p\\cdot A^2$$"
   ]
  },
  {
   "cell_type": "code",
   "execution_count": null,
   "metadata": {},
   "outputs": [],
   "source": [
    "ridge_params = tf.constant(1.0)\n",
    "ridge_loss = tf.reduce_mean(tf.square(A))\n",
    "loss = tf.expand_dims(tf.add(tf.reduce_mean(tf.square(y_target-y_pred)), tf.multiply(ridge_params, ridge_loss)),0)"
   ]
  }
 ],
 "metadata": {
  "kernelspec": {
   "display_name": "Python 3",
   "language": "python",
   "name": "python3"
  },
  "language_info": {
   "codemirror_mode": {
    "name": "ipython",
    "version": 3
   },
   "file_extension": ".py",
   "mimetype": "text/x-python",
   "name": "python",
   "nbconvert_exporter": "python",
   "pygments_lexer": "ipython3",
   "version": "3.6.8"
  }
 },
 "nbformat": 4,
 "nbformat_minor": 2
}
