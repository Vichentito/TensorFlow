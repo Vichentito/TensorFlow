{
 "cells": [
  {
   "cell_type": "markdown",
   "metadata": {},
   "source": [
    "# Elastic Net"
   ]
  },
  {
   "cell_type": "code",
   "execution_count": 1,
   "metadata": {},
   "outputs": [],
   "source": [
    "import matplotlib.pyplot as plt\n",
    "import numpy as np\n",
    "import tensorflow as tf\n",
    "from sklearn import datasets"
   ]
  },
  {
   "cell_type": "code",
   "execution_count": 2,
   "metadata": {},
   "outputs": [],
   "source": [
    "session = tf.Session()\n",
    "iris = datasets.load_iris()"
   ]
  },
  {
   "cell_type": "markdown",
   "metadata": {},
   "source": [
    "- $x\\in\\mathbb R^3$\n",
    "- $A \\in \\mathbb R_{3\\times 1}$\n",
    "- $y = Ax+b\\in \\mathbb R$"
   ]
  },
  {
   "cell_type": "code",
   "execution_count": 4,
   "metadata": {},
   "outputs": [],
   "source": [
    "x_vals = np.array([[x[1], x[2], x[3]] for x in iris.data])\n",
    "y_vals = np.array([x[0] for x in iris.data])"
   ]
  },
  {
   "cell_type": "code",
   "execution_count": 7,
   "metadata": {},
   "outputs": [],
   "source": [
    "batch_size = 50\n",
    "learning_rate = 0.001\n",
    "x_data = tf.placeholder(shape=[None, 3], dtype = tf.float32)\n",
    "y_target = tf.placeholder(shape = [None, 1], dtype = tf.float32)\n",
    "A = tf.Variable(tf.random_normal(shape = [3,1]))\n",
    "b = tf.Variable(tf.random_normal(shape = [1,1]))\n",
    "y_pred = tf.add(tf.matmul(x_data, A), b)"
   ]
  },
  {
   "cell_type": "markdown",
   "metadata": {},
   "source": [
    "$$Loss = \\sum\\frac{(y_r-y_p)^2}{n} + \\alpha \\cdot |A| + \\beta \\cdot A^2$$"
   ]
  },
  {
   "cell_type": "code",
   "execution_count": 12,
   "metadata": {},
   "outputs": [],
   "source": [
    "elastic_param1 = tf.constant(1.0)\n",
    "elastic_param2 = tf.constant(1.0)\n",
    "l1_a_loss = tf.reduce_mean(tf.abs(A))\n",
    "l2_a_loss =tf.reduce_mean(tf.square(A))\n",
    "e1_term = tf.multiply(elastic_param1,l1_a_loss)\n",
    "e2_term = tf.multiply(elastic_param2, l2_a_loss)\n",
    "loss = tf.expand_dims(tf.add(tf.add(tf.reduce_mean(tf.square(y_target - y_pred)), e1_term), e2_term), 0)"
   ]
  },
  {
   "cell_type": "code",
   "execution_count": 13,
   "metadata": {},
   "outputs": [],
   "source": [
    "init = tf.global_variables_initializer()\n",
    "session.run(init)"
   ]
  },
  {
   "cell_type": "code",
   "execution_count": 14,
   "metadata": {},
   "outputs": [],
   "source": [
    "my_optimizer = tf.train.GradientDescentOptimizer(learning_rate=learning_rate)\n",
    "train_step = my_optimizer.minimize(loss)"
   ]
  },
  {
   "cell_type": "code",
   "execution_count": 15,
   "metadata": {},
   "outputs": [
    {
     "name": "stdout",
     "output_type": "stream",
     "text": [
      "Paso #100A = [[0.5200914]\n",
      " [0.4984208]\n",
      " [0.4907854]], b = [[1.5580761]]Loss: [1.0572469]\n",
      "Paso #200A = [[0.58955324]\n",
      " [0.4641226 ]\n",
      " [0.41681755]], b = [[1.5997695]]Loss: [1.0916798]\n",
      "Paso #300A = [[0.63219184]\n",
      " [0.44630012]\n",
      " [0.35623336]], b = [[1.6353985]]Loss: [0.95790446]\n",
      "Paso #400A = [[0.6579313 ]\n",
      " [0.43797407]\n",
      " [0.30417293]], b = [[1.6672249]]Loss: [0.90074056]\n",
      "Paso #500A = [[0.6731728 ]\n",
      " [0.4363456 ]\n",
      " [0.25892112]], b = [[1.6967514]]Loss: [0.8544355]\n",
      "Paso #600A = [[0.6776544 ]\n",
      " [0.4399673 ]\n",
      " [0.22028872]], b = [[1.7237463]]Loss: [0.7975718]\n",
      "Paso #700A = [[0.67621917]\n",
      " [0.4432281 ]\n",
      " [0.1852043 ]], b = [[1.749084]]Loss: [0.7942939]\n",
      "Paso #800A = [[0.6737977 ]\n",
      " [0.45258257]\n",
      " [0.15561682]], b = [[1.7743332]]Loss: [0.7601827]\n",
      "Paso #900A = [[0.67097676]\n",
      " [0.45953038]\n",
      " [0.12769707]], b = [[1.7991747]]Loss: [0.8071928]\n",
      "Paso #1000A = [[0.6647813 ]\n",
      " [0.4656632 ]\n",
      " [0.10122249]], b = [[1.82265]]Loss: [0.7479795]\n"
     ]
    }
   ],
   "source": [
    "loss_vec = []\n",
    "for i in range(1000):\n",
    "    rand_idx = np.random.choice(len(x_vals), size=batch_size)\n",
    "    rand_x = x_vals[rand_idx]\n",
    "    rand_y = np.transpose([y_vals[rand_idx]])\n",
    "    session.run(train_step, feed_dict={x_data : rand_x, y_target: rand_y})\n",
    "    temp_loss = session.run(loss, feed_dict={x_data: rand_x, y_target: rand_y})\n",
    "    loss_vec.append(temp_loss[0])\n",
    "    if(i+1)%100==0:\n",
    "        print(\"Paso #\"+str(i+1)+\"A = \"+str(session.run(A))+\", b = \"+str(session.run(b))+\n",
    "             \"Loss: \"+str(temp_loss))"
   ]
  },
  {
   "cell_type": "code",
   "execution_count": 16,
   "metadata": {},
   "outputs": [
    {
     "name": "stdout",
     "output_type": "stream",
     "text": [
      "y=0.6647813x1+0.4656632x2+0.10122249x3+1.82265\n"
     ]
    }
   ],
   "source": [
    "slope = session.run(A)\n",
    "[[intercept]] = session.run(b)\n",
    "print(\"y=\"+str(slope[0][0])+\"x1+\"+str(slope[1][0])+\"x2+\"+str(slope[2][0])+\"x3+\"+str(intercept))"
   ]
  },
  {
   "cell_type": "code",
   "execution_count": 17,
   "metadata": {},
   "outputs": [
    {
     "data": {
      "image/png": "[encoded data removed]",
      "text/plain": [
       "<Figure size 432x288 with 1 Axes>"
      ]
     },
     "metadata": {
      "needs_background": "light"
     },
     "output_type": "display_data"
    }
   ],
   "source": [
    "plt.plot(loss_vec, 'k-')\n",
    "plt.title(\"Regresión de la Red Elástica\")\n",
    "plt.xlabel(\"Iteración\")\n",
    "plt.ylabel(\"Pérdida\")\n",
    "plt.show()"
   ]
  },
  {
   "cell_type": "code",
   "execution_count": null,
   "metadata": {},
   "outputs": [],
   "source": []
  }
 ],
 "metadata": {
  "kernelspec": {
   "display_name": "Python 3",
   "language": "python",
   "name": "python3"
  },
  "language_info": {
   "codemirror_mode": {
    "name": "ipython",
    "version": 3
   },
   "file_extension": ".py",
   "mimetype": "text/x-python",
   "name": "python",
   "nbconvert_exporter": "python",
   "pygments_lexer": "ipython3",
   "version": "3.6.8"
  }
 },
 "nbformat": 4,
 "nbformat_minor": 2
}
