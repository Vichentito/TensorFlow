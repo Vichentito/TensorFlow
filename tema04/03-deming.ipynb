{
 "cells": [
  {
   "cell_type": "markdown",
   "metadata": {},
   "source": [
    "# Regresion de la distancia Ortogonal"
   ]
  },
  {
   "cell_type": "markdown",
   "metadata": {},
   "source": [
    "$$y = mx +n $$\n",
    "Dado $(x_0,y_0)$, se define la distancia entre el punto y la recta anterior como:\n",
    "$$d=\\frac{|y_0-(mx_0+b)|}{\\sqrt{m^2+1}}$$"
   ]
  },
  {
   "cell_type": "code",
   "execution_count": 3,
   "metadata": {},
   "outputs": [],
   "source": [
    "import matplotlib.pyplot as plt\n",
    "import numpy as np\n",
    "import tensorflow as tf\n",
    "from sklearn import datasets"
   ]
  },
  {
   "cell_type": "code",
   "execution_count": 32,
   "metadata": {},
   "outputs": [],
   "source": [
    "session = tf.Session()"
   ]
  },
  {
   "cell_type": "code",
   "execution_count": 33,
   "metadata": {},
   "outputs": [],
   "source": [
    "iris = datasets.load_iris()"
   ]
  },
  {
   "cell_type": "code",
   "execution_count": 34,
   "metadata": {},
   "outputs": [],
   "source": [
    "x_vals = np.array([x[3] for x in iris.data])\n",
    "y_vals = np.array([x[0] for x in iris.data])"
   ]
  },
  {
   "cell_type": "code",
   "execution_count": 35,
   "metadata": {},
   "outputs": [],
   "source": [
    "batch_size = 50\n",
    "learning_rate = 0.1"
   ]
  },
  {
   "cell_type": "code",
   "execution_count": 36,
   "metadata": {},
   "outputs": [],
   "source": [
    "x_data = tf.placeholder(shape=[None, 1], dtype=tf.float32)\n",
    "y_target = tf.placeholder(shape=[None, 1], dtype = tf.float32)\n",
    "m = tf.Variable(tf.random_normal(shape=[1,1]))\n",
    "n = tf.Variable(tf.random_normal(shape=[1,1]))"
   ]
  },
  {
   "cell_type": "code",
   "execution_count": 37,
   "metadata": {},
   "outputs": [],
   "source": [
    "y_predict = tf.add(tf.matmul(x_data, m), n)"
   ]
  },
  {
   "cell_type": "code",
   "execution_count": 38,
   "metadata": {},
   "outputs": [],
   "source": [
    "deming_num = tf.abs(tf.subtract(y_target, tf.add(tf.matmul(x_data,m), n)))\n",
    "demin_den = tf.sqrt(tf.add(tf.square(m), 1.0))\n",
    "deming_loss = tf.reduce_mean(tf.truediv(deming_num, demin_den))"
   ]
  },
  {
   "cell_type": "code",
   "execution_count": 39,
   "metadata": {},
   "outputs": [],
   "source": [
    "init = tf.global_variables_initializer()\n",
    "session.run(init)"
   ]
  },
  {
   "cell_type": "code",
   "execution_count": 40,
   "metadata": {},
   "outputs": [],
   "source": [
    "my_optim = tf.train.GradientDescentOptimizer(learning_rate=learning_rate)\n",
    "train_step = my_optim.minimize(deming_loss)"
   ]
  },
  {
   "cell_type": "code",
   "execution_count": 41,
   "metadata": {},
   "outputs": [
    {
     "name": "stdout",
     "output_type": "stream",
     "text": [
      "Paso #20, m = [[2.571845]], n = [[1.7521224]]Loss: 0.49901238\n",
      "Paso #40, m = [[2.8009734]], n = [[1.9900658]]Loss: 0.46162465\n",
      "Paso #60, m = [[2.824155]], n = [[2.096013]]Loss: 0.39963356\n",
      "Paso #80, m = [[2.7671444]], n = [[2.1449108]]Loss: 0.45378342\n",
      "Paso #100, m = [[2.771173]], n = [[2.2360723]]Loss: 0.43743265\n",
      "Paso #120, m = [[2.7076213]], n = [[2.2855275]]Loss: 0.42828858\n",
      "Paso #140, m = [[2.6613007]], n = [[2.3543015]]Loss: 0.46294603\n",
      "Paso #160, m = [[2.6318855]], n = [[2.429371]]Loss: 0.43533143\n",
      "Paso #180, m = [[2.575179]], n = [[2.477372]]Loss: 0.42090154\n",
      "Paso #200, m = [[2.504405]], n = [[2.5248313]]Loss: 0.41548157\n",
      "Paso #220, m = [[2.4702752]], n = [[2.5991738]]Loss: 0.3749264\n",
      "Paso #240, m = [[2.431184]], n = [[2.6687453]]Loss: 0.456139\n",
      "Paso #260, m = [[2.3916545]], n = [[2.7475479]]Loss: 0.44808537\n",
      "Paso #280, m = [[2.3426156]], n = [[2.824972]]Loss: 0.44308406\n",
      "Paso #300, m = [[2.2913804]], n = [[2.9091315]]Loss: 0.4542739\n"
     ]
    }
   ],
   "source": [
    "loss_vect = []\n",
    "for i in range(300):\n",
    "    rand_idx = np.random.choice(len(x_vals), size = batch_size)\n",
    "    rand_x = np.transpose([x_vals[rand_idx]])\n",
    "    rand_y = np.transpose([y_vals[rand_idx]])\n",
    "    session.run(train_step, feed_dict={x_data : rand_x, y_target: rand_y})\n",
    "    temp_loss = session.run(deming_loss, feed_dict={x_data: rand_x, y_target: rand_y})\n",
    "    loss_vect.append(temp_loss)\n",
    "    if(i+1)%20==0:\n",
    "        print(\"Paso #\"+str(i+1)+\", m = \"+str(session.run(m))+\", n = \"+str(session.run(n))+\n",
    "             \"Loss: \"+str(temp_loss))"
   ]
  },
  {
   "cell_type": "code",
   "execution_count": 42,
   "metadata": {},
   "outputs": [
    {
     "name": "stdout",
     "output_type": "stream",
     "text": [
      "2.2913804x+2.9091315\n"
     ]
    }
   ],
   "source": [
    "[[slope]] = session.run(m)\n",
    "[[intercept]] = session.run(n)\n",
    "print(str(slope)+\"x+\"+str(intercept))"
   ]
  },
  {
   "cell_type": "code",
   "execution_count": 43,
   "metadata": {},
   "outputs": [],
   "source": [
    "best_fit = []\n",
    "for i in x_vals: \n",
    "    best_fit.append(slope * i +intercept)"
   ]
  },
  {
   "cell_type": "code",
   "execution_count": 44,
   "metadata": {},
   "outputs": [
    {
     "data": {
      "image/png": "[encoded data removed]",
      "text/plain": [
       "<Figure size 432x288 with 1 Axes>"
      ]
     },
     "metadata": {
      "needs_background": "light"
     },
     "output_type": "display_data"
    }
   ],
   "source": [
    "plt.plot(x_vals, y_vals, 'o', label = \"Iris Data\")\n",
    "plt.plot(x_vals, best_fit, 'r-', label = \"Best Deming Regression\", linewidth = 3)\n",
    "plt.legend(loc = \"upper left\")\n",
    "plt.title(\"Regresion Deming\")\n",
    "plt.xlabel(\"Anchura de pétalos\")\n",
    "plt.ylabel(\"Longitud de Sépalos\")\n",
    "plt.show()"
   ]
  },
  {
   "cell_type": "code",
   "execution_count": 45,
   "metadata": {},
   "outputs": [
    {
     "data": {
      "text/plain": [
       "[<matplotlib.lines.Line2D at 0x1ce6d2485f8>]"
      ]
     },
     "execution_count": 45,
     "metadata": {},
     "output_type": "execute_result"
    },
    {
     "data": {
      "image/png": "[encoded data removed]",
      "text/plain": [
       "<Figure size 432x288 with 1 Axes>"
      ]
     },
     "metadata": {
      "needs_background": "light"
     },
     "output_type": "display_data"
    }
   ],
   "source": [
    "plt.plot(loss_vect, 'k-', label=\"Función de pérdidas\")"
   ]
  },
  {
   "cell_type": "code",
   "execution_count": null,
   "metadata": {},
   "outputs": [],
   "source": []
  }
 ],
 "metadata": {
  "kernelspec": {
   "display_name": "Python 3",
   "language": "python",
   "name": "python3"
  },
  "language_info": {
   "codemirror_mode": {
    "name": "ipython",
    "version": 3
   },
   "file_extension": ".py",
   "mimetype": "text/x-python",
   "name": "python",
   "nbconvert_exporter": "python",
   "pygments_lexer": "ipython3",
   "version": "3.6.8"
  }
 },
 "nbformat": 4,
 "nbformat_minor": 2
}
