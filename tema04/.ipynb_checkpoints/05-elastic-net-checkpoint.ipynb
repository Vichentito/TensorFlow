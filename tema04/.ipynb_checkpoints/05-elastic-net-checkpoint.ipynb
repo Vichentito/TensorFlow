{
 "cells": [
  {
   "cell_type": "markdown",
   "metadata": {},
   "source": [
    "# Elastic Net"
   ]
  },
  {
   "cell_type": "code",
   "execution_count": 1,
   "metadata": {},
   "outputs": [],
   "source": [
    "import matplotlib.pyplot as plt\n",
    "import numpy as np\n",
    "import tensorflow as tf\n",
    "from sklearn import datasets"
   ]
  },
  {
   "cell_type": "code",
   "execution_count": 2,
   "metadata": {},
   "outputs": [],
   "source": [
    "session = tf.Session()\n",
    "iris = datasets.load_iris()"
   ]
  },
  {
   "cell_type": "markdown",
   "metadata": {},
   "source": [
    "- $x\\in\\mathbb R^3$\n",
    "- $A \\in \\mathbb R_{3\\times 1}$\n",
    "- $y = Ax+b\\in \\mathbb R$"
   ]
  },
  {
   "cell_type": "code",
   "execution_count": 4,
   "metadata": {},
   "outputs": [],
   "source": [
    "x_vals = np.array([[x[1], x[2], x[3]] for x in iris.data])\n",
    "y_vals = np.array([x[0] for x in iris.data])"
   ]
  },
  {
   "cell_type": "code",
   "execution_count": 7,
   "metadata": {},
   "outputs": [],
   "source": [
    "batch_size = 50\n",
    "learning_rate = 0.001\n",
    "x_data = tf.placeholder(shape=[None, 3], dtype = tf.float32)\n",
    "y_target = tf.placeholder(shape = [None, 1], dtype = tf.float32)\n",
    "A = tf.Variable(tf.random_normal(shape = [3,1]))\n",
    "b = tf.Variable(tf.random_normal(shape = [1,1]))\n",
    "y_pred = tf.add(tf.matmul(x_data, A), b)"
   ]
  },
  {
   "cell_type": "markdown",
   "metadata": {},
   "source": [
    "$$Loss = \\sum\\frac{(y_r-y_p)^2}{n} + \\alpha \\cdot |A| + \\beta \\cdot A^2$$"
   ]
  },
  {
   "cell_type": "code",
   "execution_count": 8,
   "metadata": {},
   "outputs": [],
   "source": [
    "elastic_param1 = tf.constant(1.0)\n",
    "elastic_param2 = tf.constant(1.0)\n",
    "l1_a_loss = tf.reduce_mean(tf.abs(A))\n",
    "l2_a_loss =tf.reduce_mean(tf.square(A))\n",
    "e1_term = tf.multiply(elastic_param1,l1_a_loss)\n",
    "e2_term = tf.multiply(elastic_param2, l2_a_loss)\n",
    "loss = tf.expand_dims(tf.add(tf.add(tf.reduce_mean(tf.square(y_target - y_pred)), e1_term), e2_term), 0)"
   ]
  },
  {
   "cell_type": "code",
   "execution_count": 9,
   "metadata": {},
   "outputs": [],
   "source": [
    "init = tf.global_variables_initializer()\n",
    "session.run(init)"
   ]
  },
  {
   "cell_type": "code",
   "execution_count": 10,
   "metadata": {},
   "outputs": [],
   "source": [
    "my_optimizer = tf.train.GradientDescentOptimizer(learning_rate=learning_rate)\n",
    "train_step = my_optimizer.minimize(loss)"
   ]
  },
  {
   "cell_type": "code",
   "execution_count": 11,
   "metadata": {},
   "outputs": [
    {
     "name": "stdout",
     "output_type": "stream",
     "text": [
      "Paso #100A = [[ 0.7779794 ]\n",
      " [ 0.81564796]\n",
      " [-0.31878075]], b = [[0.565359]]Loss: [1.3637459]\n",
      "Paso #200A = [[ 0.8184922 ]\n",
      " [ 0.76869637]\n",
      " [-0.26686943]], b = [[0.6052914]]Loss: [1.3046232]\n",
      "Paso #300A = [[ 0.83980507]\n",
      " [ 0.7236859 ]\n",
      " [-0.21705444]], b = [[0.6402204]]Loss: [1.1906674]\n",
      "Paso #400A = [[ 0.85341185]\n",
      " [ 0.69068354]\n",
      " [-0.16731632]], b = [[0.6739148]]Loss: [1.1447554]\n",
      "Paso #500A = [[ 0.8629884 ]\n",
      " [ 0.66327167]\n",
      " [-0.1195424 ]], b = [[0.7065901]]Loss: [1.116161]\n",
      "Paso #600A = [[ 0.8654625 ]\n",
      " [ 0.6353839 ]\n",
      " [-0.07559223]], b = [[0.73734]]Loss: [1.0884564]\n",
      "Paso #700A = [[ 0.86721176]\n",
      " [ 0.61271846]\n",
      " [-0.03327094]], b = [[0.7684184]]Loss: [1.0798393]\n",
      "Paso #800A = [[8.6895919e-01]\n",
      " [5.9862739e-01]\n",
      " [4.8414577e-04]], b = [[0.7997]]Loss: [0.99549675]\n",
      "Paso #900A = [[ 8.7110686e-01]\n",
      " [ 5.8347690e-01]\n",
      " [-5.4973309e-05]], b = [[0.8308764]]Loss: [1.0792621]\n",
      "Paso #1000A = [[8.6905134e-01]\n",
      " [5.7621282e-01]\n",
      " [5.7042926e-06]], b = [[0.8612179]]Loss: [1.0363166]\n"
     ]
    }
   ],
   "source": [
    "loss_vec = []\n",
    "for i in range(1000):\n",
    "    rand_idx = np.random.choice(len(x_vals), size=batch_size)\n",
    "    rand_x = x_vals[rand_idx]\n",
    "    rand_y = np.transpose([y_vals[rand_idx]])\n",
    "    session.run(train_step, feed_dict={x_data : rand_x, y_target: rand_y})\n",
    "    temp_loss = session.run(loss, feed_dict={x_data: rand_x, y_target: rand_y})\n",
    "    loss_vec.append(temp_loss[0])\n",
    "    if(i+1)%100==0:\n",
    "        print(\"Paso #\"+str(i+1)+\"A = \"+str(session.run(A))+\", b = \"+str(session.run(b))+\n",
    "             \"Loss: \"+str(temp_loss))"
   ]
  },
  {
   "cell_type": "code",
   "execution_count": null,
   "metadata": {},
   "outputs": [],
   "source": []
  }
 ],
 "metadata": {
  "kernelspec": {
   "display_name": "Python 3",
   "language": "python",
   "name": "python3"
  },
  "language_info": {
   "codemirror_mode": {
    "name": "ipython",
    "version": 3
   },
   "file_extension": ".py",
   "mimetype": "text/x-python",
   "name": "python",
   "nbconvert_exporter": "python",
   "pygments_lexer": "ipython3",
   "version": "3.6.8"
  }
 },
 "nbformat": 4,
 "nbformat_minor": 2
}
