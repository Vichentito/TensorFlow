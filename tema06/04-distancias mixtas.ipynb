{
 "cells": [
  {
   "cell_type": "markdown",
   "metadata": {},
   "source": [
    "# Distancias ponderadas para cada variable\n",
    "# $$D(x,y) = \\sqrt{(x-y)^T\\cdot A\\cdot(x-y)}$$"
   ]
  },
  {
   "cell_type": "code",
   "execution_count": 2,
   "metadata": {},
   "outputs": [],
   "source": [
    "import matplotlib.pyplot as plt\n",
    "import numpy as np\n",
    "import tensorflow as tf\n",
    "import requests"
   ]
  },
  {
   "cell_type": "code",
   "execution_count": 3,
   "metadata": {},
   "outputs": [],
   "source": [
    "session = tf.Session()"
   ]
  },
  {
   "cell_type": "code",
   "execution_count": 22,
   "metadata": {},
   "outputs": [],
   "source": [
    "url = \"https://archive.ics.uci.edu/ml/machine-learning-databases/housing/housing.data\"\n",
    "housing_header = [\"CRIM\", #      per capita crime rate by town\n",
    "                  \"ZN\", #        proportion of residential land zoned for lots over 25,000 sq.ft.\n",
    "                  \"INDUS\", #     proportion of non-retail business acres per town\n",
    "                  \"CHAS\", #      Charles River dummy variable (= 1 if tract bounds  river; 0 otherwise)\n",
    "                  \"NOX\", #       nitric oxides concentration (parts per 10 million)\n",
    "                  \"RM\", #        average number of rooms per dwelling\n",
    "                  \"AGE\",#        proportion of owner-occupied units built prior to 1940\n",
    "                  \"DIS\", #       weighted distances to five Boston employment centres\n",
    "                  \"RAD\", #       index of accessibility to radial highways\n",
    "                  \"TAX\", #       full-value property-tax rate per $10,000\n",
    "                  \"PTRATIO\",#    pupil-teacher ratio by town\n",
    "                  \"B\", #         1000(Bk - 0.63)^2 where Bk is the proportion of blacks by town\n",
    "                  \"LSTAT\", #     % lower status of the population\n",
    "                  \"MEDV\" #       Median value of owner-occupied homes in $1000's\n",
    "                 ]\n",
    "cols_used = [\"CRIM\", \"INDUS\", \"NOX\", \"RM\", \"AGE\", \"DIS\", \"TAX\", \"PTRATIO\", \"B\", \"LSTAT\"]\n",
    "num_features = len(cols_used)\n",
    "housing_file = requests.get(url)\n",
    "housing_data =[[float(x) for x in y.split(' ') if len(x)>=1] for y in housing_file.text.split('\\n') if len(y)>=1]\n",
    "y_vals = np.transpose([np.array([y[13] for y in housing_data])])\n",
    "x_vals = np.array([[x for i,x in enumerate(y) if housing_header[i] in cols_used] for y in housing_data])\n",
    "x_vals = (x_vals - x_vals.min(0))/x_vals.ptp(0)"
   ]
  },
  {
   "cell_type": "code",
   "execution_count": 23,
   "metadata": {},
   "outputs": [
    {
     "data": {
      "text/plain": [
       "array([0.09658371, 0.25123059, 0.23819571, 0.13449368, 0.28960899,\n",
       "       0.19129285, 0.32131774, 0.23008566, 0.22997783, 0.19685435])"
      ]
     },
     "execution_count": 23,
     "metadata": {},
     "output_type": "execute_result"
    }
   ],
   "source": [
    "weight_diag = x_vals.std(0)\n",
    "weight_diag"
   ]
  },
  {
   "cell_type": "code",
   "execution_count": 24,
   "metadata": {},
   "outputs": [],
   "source": [
    "weight_matrix = tf.cast(tf.diag(weight_diag), dtype=tf.float32)"
   ]
  },
  {
   "cell_type": "code",
   "execution_count": 25,
   "metadata": {},
   "outputs": [
    {
     "data": {
      "text/plain": [
       "array([[0.09658372, 0.        , 0.        , 0.        , 0.        ,\n",
       "        0.        , 0.        , 0.        , 0.        , 0.        ],\n",
       "       [0.        , 0.2512306 , 0.        , 0.        , 0.        ,\n",
       "        0.        , 0.        , 0.        , 0.        , 0.        ],\n",
       "       [0.        , 0.        , 0.23819572, 0.        , 0.        ,\n",
       "        0.        , 0.        , 0.        , 0.        , 0.        ],\n",
       "       [0.        , 0.        , 0.        , 0.13449368, 0.        ,\n",
       "        0.        , 0.        , 0.        , 0.        , 0.        ],\n",
       "       [0.        , 0.        , 0.        , 0.        , 0.289609  ,\n",
       "        0.        , 0.        , 0.        , 0.        , 0.        ],\n",
       "       [0.        , 0.        , 0.        , 0.        , 0.        ,\n",
       "        0.19129285, 0.        , 0.        , 0.        , 0.        ],\n",
       "       [0.        , 0.        , 0.        , 0.        , 0.        ,\n",
       "        0.        , 0.32131773, 0.        , 0.        , 0.        ],\n",
       "       [0.        , 0.        , 0.        , 0.        , 0.        ,\n",
       "        0.        , 0.        , 0.23008566, 0.        , 0.        ],\n",
       "       [0.        , 0.        , 0.        , 0.        , 0.        ,\n",
       "        0.        , 0.        , 0.        , 0.22997783, 0.        ],\n",
       "       [0.        , 0.        , 0.        , 0.        , 0.        ,\n",
       "        0.        , 0.        , 0.        , 0.        , 0.19685435]],\n",
       "      dtype=float32)"
      ]
     },
     "execution_count": 25,
     "metadata": {},
     "output_type": "execute_result"
    }
   ],
   "source": [
    "session.run(weight_matrix)"
   ]
  },
  {
   "cell_type": "code",
   "execution_count": 26,
   "metadata": {},
   "outputs": [],
   "source": [
    "train_idx = np.random.choice(len(x_vals), round(len(x_vals)*0.8), replace=False)\n",
    "test_idx = np.array(list(set(range(len(x_vals)))-set(train_idx)))\n",
    "\n",
    "x_vals_train = x_vals[train_idx]\n",
    "x_vals_test = x_vals[test_idx]\n",
    "\n",
    "y_vals_train = y_vals[train_idx]\n",
    "y_vals_test = y_vals[test_idx]"
   ]
  },
  {
   "cell_type": "code",
   "execution_count": 38,
   "metadata": {},
   "outputs": [],
   "source": [
    "k = 2\n",
    "batch_size = len(x_vals_test)"
   ]
  },
  {
   "cell_type": "code",
   "execution_count": 39,
   "metadata": {},
   "outputs": [],
   "source": [
    "x_data_train = tf.placeholder(shape=[None, num_features], dtype=tf.float32)\n",
    "x_data_test = tf.placeholder(shape=[None, num_features], dtype=tf.float32)\n",
    "\n",
    "y_target_train = tf.placeholder(shape = [None, 1], dtype=tf.float32)\n",
    "y_target_test = tf.placeholder(shape=[None, 1], dtype=tf.float32)"
   ]
  },
  {
   "cell_type": "code",
   "execution_count": 40,
   "metadata": {},
   "outputs": [],
   "source": [
    "subs_terms = tf.subtract(x_data_train, tf.expand_dims(x_data_test,1))\n",
    "first_prod = tf.matmul(subs_terms, tf.tile(tf.expand_dims(weight_matrix,0), [batch_size,1,1]))\n",
    "second_prod = tf.matmul(first_prod, tf.transpose(subs_terms, perm=[0,2,1]))"
   ]
  },
  {
   "cell_type": "code",
   "execution_count": 41,
   "metadata": {},
   "outputs": [],
   "source": [
    "distance = tf.sqrt(tf.matrix_diag_part(second_prod))"
   ]
  },
  {
   "cell_type": "code",
   "execution_count": 42,
   "metadata": {},
   "outputs": [],
   "source": [
    "top_k_xvals, top_k_idx = tf.nn.top_k(tf.negative(distance), k = k)\n",
    "x_sums = tf.expand_dims(tf.reduce_sum(top_k_xvals,1),1)\n",
    "x_sums_rep = tf.matmul(x_sums, tf.ones([1,k], tf.float32))\n",
    "x_vals_w = tf.expand_dims(tf.divide(top_k_xvals, x_sums_rep),1) # -> wi = di / \\sum(dj)\n",
    "top_k_yvals = tf.gather(y_target_train, top_k_idx)\n",
    "prediction = tf.squeeze(tf.matmul(x_vals_w, top_k_yvals),axis=[1]) ## \\sum w_i y_i"
   ]
  },
  {
   "cell_type": "code",
   "execution_count": 43,
   "metadata": {},
   "outputs": [],
   "source": [
    "mse = tf.div(tf.reduce_sum(tf.square(tf.subtract(prediction, y_target_test))), batch_size)"
   ]
  },
  {
   "cell_type": "code",
   "execution_count": 44,
   "metadata": {},
   "outputs": [
    {
     "name": "stdout",
     "output_type": "stream",
     "text": [
      "MSE = 19.666\n"
     ]
    }
   ],
   "source": [
    "num_loops = int(np.ceil(len(x_vals_test)/batch_size))\n",
    "\n",
    "for i in range(num_loops):\n",
    "    min_idx = i*batch_size\n",
    "    max_idx = min((i+1)*batch_size, len(x_vals_train))\n",
    "    x_batch = x_vals_test[min_idx:max_idx]\n",
    "    y_batch = y_vals_test[min_idx:max_idx]\n",
    "    \n",
    "    predictions = session.run(prediction, feed_dict={x_data_train: x_vals_train, x_data_test: x_batch,\n",
    "                                         y_target_train: y_vals_train, y_target_test: y_batch})\n",
    "    batch_mse = session.run(mse, feed_dict={x_data_train: x_vals_train, x_data_test: x_batch,\n",
    "                                         y_target_train: y_vals_train, y_target_test: y_batch})\n",
    "    \n",
    "    print(\"MSE = \"+str(np.round(batch_mse, 3)))"
   ]
  },
  {
   "cell_type": "code",
   "execution_count": 45,
   "metadata": {},
   "outputs": [
    {
     "data": {
      "image/png": "[encoded data removed]",
      "text/plain": [
       "<Figure size 432x288 with 1 Axes>"
      ]
     },
     "metadata": {
      "needs_background": "light"
     },
     "output_type": "display_data"
    }
   ],
   "source": [
    "bins = np.linspace(5, 50, 45)\n",
    "plt.hist(predictions, bins, alpha = 0.5, label = \"Predicción\")\n",
    "plt.hist(y_batch, bins, alpha = 0.5, label = \"Dato Real\")\n",
    "plt.title(\"Histograma de valor de la casa real vs predicción\")\n",
    "plt.xlabel(\"Valor mediano de la casa en 1.000$\")\n",
    "plt.ylabel(\"Frecuencia\")\n",
    "plt.legend(loc=\"upper right\")\n",
    "plt.show()"
   ]
  },
  {
   "cell_type": "code",
   "execution_count": 35,
   "metadata": {},
   "outputs": [],
   "source": [
    "def knn(k):\n",
    "    batch_size = len(x_vals_test)\n",
    "\n",
    "    top_k_xvals, top_k_idx = tf.nn.top_k(tf.negative(distance), k = k)\n",
    "    x_sums = tf.expand_dims(tf.reduce_sum(top_k_xvals,1),1)\n",
    "    x_sums_rep = tf.matmul(x_sums, tf.ones([1,k], tf.float32))\n",
    "    x_vals_w = tf.expand_dims(tf.divide(top_k_xvals, x_sums_rep),1) # -> wi = di / \\sum(dj)\n",
    "    \n",
    "    top_k_yvals = tf.gather(y_target_train, top_k_idx)\n",
    "    prediction = tf.squeeze(tf.matmul(x_vals_w, top_k_yvals),axis=[1]) ## \\sum w_i y_i\n",
    "    \n",
    "    mse = tf.div(tf.reduce_sum(tf.square(tf.subtract(prediction, y_target_test))), batch_size)\n",
    "    \n",
    "    min_idx = i*batch_size\n",
    "    max_idx = min((i+1)*batch_size, len(x_vals_train))\n",
    "    x_batch = x_vals_test[min_idx:max_idx]\n",
    "    y_batch = y_vals_test[min_idx:max_idx]\n",
    "    \n",
    "    predictions = session.run(prediction, feed_dict={x_data_train: x_vals_train, x_data_test: x_batch,\n",
    "                                         y_target_train: y_vals_train, y_target_test: y_batch})\n",
    "    batch_mse = session.run(mse, feed_dict={x_data_train: x_vals_train, x_data_test: x_batch,\n",
    "                                         y_target_train: y_vals_train, y_target_test: y_batch})\n",
    "    \n",
    "    return batch_mse"
   ]
  },
  {
   "cell_type": "code",
   "execution_count": 36,
   "metadata": {},
   "outputs": [
    {
     "name": "stdout",
     "output_type": "stream",
     "text": [
      "2, MSE=19.666325\n",
      "3, MSE=20.289074\n",
      "4, MSE=20.729017\n",
      "5, MSE=20.361536\n",
      "6, MSE=21.871042\n",
      "7, MSE=20.80564\n",
      "8, MSE=23.084864\n",
      "9, MSE=25.052065\n",
      "10, MSE=26.588263\n",
      "11, MSE=27.153997\n",
      "12, MSE=28.488678\n",
      "13, MSE=27.6612\n",
      "14, MSE=28.009789\n",
      "15, MSE=28.035538\n",
      "16, MSE=28.030197\n",
      "17, MSE=28.287724\n",
      "18, MSE=28.62185\n",
      "19, MSE=29.491585\n",
      "20, MSE=30.184687\n",
      "21, MSE=31.32505\n",
      "22, MSE=31.591114\n",
      "23, MSE=31.546776\n",
      "24, MSE=31.524197\n",
      "25, MSE=31.463211\n",
      "26, MSE=32.119392\n",
      "27, MSE=32.4085\n",
      "28, MSE=33.076256\n",
      "29, MSE=33.23792\n"
     ]
    }
   ],
   "source": [
    "mse_k = []\n",
    "for k in range(2,30):\n",
    "    mse_t = knn(k)\n",
    "    mse_k.append(mse_t)\n",
    "    print(str(k)+\", MSE=\"+str(mse_t))"
   ]
  },
  {
   "cell_type": "code",
   "execution_count": 37,
   "metadata": {},
   "outputs": [
    {
     "data": {
      "image/png": "[encoded data removed]",
      "text/plain": [
       "<Figure size 432x288 with 1 Axes>"
      ]
     },
     "metadata": {
      "needs_background": "light"
     },
     "output_type": "display_data"
    }
   ],
   "source": [
    "plt.plot(range(2,30), mse_k, 'k-', label=\"MSE\")\n",
    "plt.xlabel(\"k\")\n",
    "plt.ylabel(\"MSE\")\n",
    "plt.show()"
   ]
  },
  {
   "cell_type": "code",
   "execution_count": null,
   "metadata": {},
   "outputs": [],
   "source": []
  }
 ],
 "metadata": {
  "kernelspec": {
   "display_name": "Python 3",
   "language": "python",
   "name": "python3"
  },
  "language_info": {
   "codemirror_mode": {
    "name": "ipython",
    "version": 3
   },
   "file_extension": ".py",
   "mimetype": "text/x-python",
   "name": "python",
   "nbconvert_exporter": "python",
   "pygments_lexer": "ipython3",
   "version": "3.6.8"
  }
 },
 "nbformat": 4,
 "nbformat_minor": 2
}
