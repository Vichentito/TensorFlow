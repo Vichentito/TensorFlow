{
 "cells": [
  {
   "cell_type": "markdown",
   "metadata": {},
   "source": [
    "# Correspondencia en direcciones postales"
   ]
  },
  {
   "cell_type": "code",
   "execution_count": 1,
   "metadata": {},
   "outputs": [],
   "source": [
    "import random\n",
    "import string\n",
    "import numpy as np\n",
    "import tensorflow as tf"
   ]
  },
  {
   "cell_type": "code",
   "execution_count": 27,
   "metadata": {},
   "outputs": [],
   "source": [
    "n = 10\n",
    "street_names = [\"diagon\", \"elm\", \"abbey\", \"vallejo\", \"batiz\"]\n",
    "street_type = [\"callejon\", \"calle\", \"carretera\", \"via\", \"avenida\"]\n",
    "street_zips = [random.randint(20000,29999) for i in range(5)]\n",
    "numbers = [random.randint(1,999) for i in range(n)]"
   ]
  },
  {
   "cell_type": "code",
   "execution_count": 28,
   "metadata": {},
   "outputs": [],
   "source": [
    "streets = [random.choice(street_names) for i in range(n)]\n",
    "street_pref = [random.choice(street_type) for i in range(n)]\n",
    "zips = [random.choice(street_zips) for i in range(n)]\n",
    "full_streets = [x + \" \" + y + \" \" + str(z) for x,y,z in zip(street_pref, streets, numbers)]\n",
    "reference_data = [list(x) for x in  zip(full_streets, zips)]"
   ]
  },
  {
   "cell_type": "code",
   "execution_count": 29,
   "metadata": {},
   "outputs": [
    {
     "data": {
      "text/plain": [
       "[['avenida batiz 506', 24070],\n",
       " ['avenida elm 846', 24198],\n",
       " ['calle diagon 414', 20545],\n",
       " ['callejon vallejo 505', 24198],\n",
       " ['calle elm 819', 21707],\n",
       " ['avenida diagon 788', 24198],\n",
       " ['callejon abbey 395', 24070],\n",
       " ['calle batiz 496', 27680],\n",
       " ['calle abbey 890', 21707],\n",
       " ['callejon batiz 885', 24070]]"
      ]
     },
     "execution_count": 29,
     "metadata": {},
     "output_type": "execute_result"
    }
   ],
   "source": [
    "reference_data"
   ]
  },
  {
   "cell_type": "code",
   "execution_count": 30,
   "metadata": {},
   "outputs": [],
   "source": [
    "def create_typo(s, prob=0.75):\n",
    "    if random.uniform(0,1) <0.75:\n",
    "        rand_idx = random.choice(range(len(s)))\n",
    "        s_list = list(s)\n",
    "        s_list[rand_idx] = random.choice(string.ascii_lowercase)\n",
    "        s = ''.join(s_list)\n",
    "    return s"
   ]
  },
  {
   "cell_type": "code",
   "execution_count": 31,
   "metadata": {},
   "outputs": [],
   "source": [
    "typo_streets = [create_typo(x) for x in streets]"
   ]
  },
  {
   "cell_type": "code",
   "execution_count": 32,
   "metadata": {},
   "outputs": [
    {
     "data": {
      "text/plain": [
       "[['avenida patiz 506', 24070],\n",
       " ['avenida elb 846', 24198],\n",
       " ['calle diwgon 414', 20545],\n",
       " ['callejon vallejo 505', 24198],\n",
       " ['calle elm 819', 21707],\n",
       " ['avenida diagon 788', 24198],\n",
       " ['callejon abbey 395', 24070],\n",
       " ['calle batiz 496', 27680],\n",
       " ['calle abbey 890', 21707],\n",
       " ['callejon baxiz 885', 24070]]"
      ]
     },
     "execution_count": 32,
     "metadata": {},
     "output_type": "execute_result"
    }
   ],
   "source": [
    "typo_full_streets = [x+\" \"+y+\" \"+str(z) for x,y,z in zip(street_pref, typo_streets, numbers)]\n",
    "test_data = [list(x) for x in zip(typo_full_streets, zips)]\n",
    "test_data"
   ]
  },
  {
   "cell_type": "code",
   "execution_count": 33,
   "metadata": {},
   "outputs": [],
   "source": [
    "session = tf.Session()"
   ]
  },
  {
   "cell_type": "code",
   "execution_count": 34,
   "metadata": {},
   "outputs": [],
   "source": [
    "test_address = tf.sparse_placeholder(dtype = tf.string)\n",
    "test_zip = tf.placeholder(shape = [None, 1], dtype=tf.float32)\n",
    "\n",
    "ref_address = tf.sparse_placeholder(dtype = tf.string)\n",
    "ref_zip = tf.placeholder(shape=[None, n], dtype=tf.float32 )"
   ]
  },
  {
   "cell_type": "code",
   "execution_count": 35,
   "metadata": {},
   "outputs": [],
   "source": [
    "zip_dist = tf.square(tf.subtract(ref_zip, test_zip))\n",
    "address_dist = tf.edit_distance(test_address, ref_address, normalize=True)"
   ]
  },
  {
   "cell_type": "markdown",
   "metadata": {},
   "source": [
    "- $S(x,y) = 0$ si $x$ e $y$ son totalmente diferentes (no se parecen en nada)\n",
    "- $S(x,x) = 1$, ya que todo objeto es similar (si no igual) a si mismo.\n",
    "- $S(x,y) = \\frac{D - d(x,y)}{D-d}$ donde $D$ es la mayor distancia entre dos objetos posibles, y $d$ es la menor."
   ]
  },
  {
   "cell_type": "code",
   "execution_count": 36,
   "metadata": {},
   "outputs": [],
   "source": [
    "zip_max = tf.gather(tf.squeeze(zip_dist), tf.argmax(zip_dist, 1))\n",
    "zip_min = tf.gather(tf.squeeze(zip_dist), tf.argmin(zip_dist, 1))\n",
    "zip_sim = tf.divide(tf.subtract(zip_max, zip_dist), tf.subtract(zip_max, zip_min))"
   ]
  },
  {
   "cell_type": "code",
   "execution_count": 37,
   "metadata": {},
   "outputs": [],
   "source": [
    "address_sim = tf.subtract(1.0, address_dist)"
   ]
  },
  {
   "cell_type": "markdown",
   "metadata": {},
   "source": [
    "$$S(x,y) = \\sum_{i=1}^k w_iS_k(x,y):\\quad \\sum_{i=1}^kw_i = 1$$"
   ]
  },
  {
   "cell_type": "code",
   "execution_count": 38,
   "metadata": {},
   "outputs": [],
   "source": [
    "address_wi = 0.5\n",
    "zip_wi = 1.0 - address_wi"
   ]
  },
  {
   "cell_type": "code",
   "execution_count": 39,
   "metadata": {},
   "outputs": [],
   "source": [
    "weighted_sim = tf.add(tf.transpose(tf.multiply(address_wi, address_sim)), tf.multiply(zip_wi, zip_sim))"
   ]
  },
  {
   "cell_type": "code",
   "execution_count": 40,
   "metadata": {},
   "outputs": [],
   "source": [
    "top_match_idx = tf.argmax(weighted_sim, 1)"
   ]
  },
  {
   "cell_type": "code",
   "execution_count": 41,
   "metadata": {},
   "outputs": [],
   "source": [
    "def sparse_from_word_vector(word_vector):\n",
    "    num_words = len(word_vector)\n",
    "    idx = [[xi,0,yi] for xi,x in enumerate(word_vector) for yi, y in enumerate(x)]\n",
    "    chars = list(''.join(word_vector))\n",
    "    return tf.SparseTensorValue(idx, chars, [num_words,1,1])"
   ]
  },
  {
   "cell_type": "code",
   "execution_count": 45,
   "metadata": {},
   "outputs": [],
   "source": [
    "reference_address = [x[0] for x in reference_data]\n",
    "reference_zips = [x[1] for x in reference_data]"
   ]
  },
  {
   "cell_type": "code",
   "execution_count": null,
   "metadata": {},
   "outputs": [],
   "source": []
  }
 ],
 "metadata": {
  "kernelspec": {
   "display_name": "Python 3",
   "language": "python",
   "name": "python3"
  },
  "language_info": {
   "codemirror_mode": {
    "name": "ipython",
    "version": 3
   },
   "file_extension": ".py",
   "mimetype": "text/x-python",
   "name": "python",
   "nbconvert_exporter": "python",
   "pygments_lexer": "ipython3",
   "version": "3.6.8"
  }
 },
 "nbformat": 4,
 "nbformat_minor": 2
}
