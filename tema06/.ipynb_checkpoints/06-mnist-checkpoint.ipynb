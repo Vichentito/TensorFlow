{
 "cells": [
  {
   "cell_type": "markdown",
   "metadata": {},
   "source": [
    "# Clasificación de imágenes con KNN"
   ]
  },
  {
   "cell_type": "code",
   "execution_count": 1,
   "metadata": {},
   "outputs": [],
   "source": [
    "import random\n",
    "import numpy as np\n",
    "import tensorflow as tf\n",
    "import matplotlib.pyplot as plt\n",
    "from PIL import Image\n",
    "from tensorflow.examples.tutorials.mnist import input_data"
   ]
  },
  {
   "cell_type": "code",
   "execution_count": 2,
   "metadata": {},
   "outputs": [],
   "source": [
    "session = tf.Session()"
   ]
  },
  {
   "cell_type": "code",
   "execution_count": 4,
   "metadata": {},
   "outputs": [
    {
     "name": "stdout",
     "output_type": "stream",
     "text": [
      "Extracting ../../datasets/MNIST_data/train-images-idx3-ubyte.gz\n",
      "Extracting ../../datasets/MNIST_data/train-labels-idx1-ubyte.gz\n",
      "Extracting ../../datasets/MNIST_data/t10k-images-idx3-ubyte.gz\n",
      "Extracting ../../datasets/MNIST_data/t10k-labels-idx1-ubyte.gz\n"
     ]
    }
   ],
   "source": [
    "mnist = input_data.read_data_sets(\"../../datasets/MNIST_data/\", one_hot=True)"
   ]
  },
  {
   "cell_type": "code",
   "execution_count": 5,
   "metadata": {},
   "outputs": [],
   "source": [
    "train_size = 50000\n",
    "test_size = 120"
   ]
  },
  {
   "cell_type": "code",
   "execution_count": 6,
   "metadata": {},
   "outputs": [],
   "source": [
    "rand_train_idx = np.random.choice(len(mnist.train.images), train_size, replace=False)\n",
    "rand_test_idx = np.random.choice(len(mnist.test.images), test_size, replace=False)"
   ]
  },
  {
   "cell_type": "code",
   "execution_count": 7,
   "metadata": {},
   "outputs": [],
   "source": [
    "x_vals_train = mnist.train.images[rand_train_idx]\n",
    "x_vals_test = mnist.test.images[rand_test_idx]\n",
    "y_vals_train = mnist.train.labels[rand_train_idx]\n",
    "y_vals_test = mnist.test.labels[rand_test_idx]"
   ]
  },
  {
   "cell_type": "code",
   "execution_count": 31,
   "metadata": {},
   "outputs": [],
   "source": [
    "k = 6\n",
    "batch_size = 6"
   ]
  },
  {
   "cell_type": "code",
   "execution_count": 32,
   "metadata": {},
   "outputs": [],
   "source": [
    "x_data_train = tf.placeholder(shape = [None, 784], dtype=tf.float32)\n",
    "x_data_test = tf.placeholder(shape = [None, 784], dtype = tf.float32)\n",
    "\n",
    "y_target_train = tf.placeholder(shape = [None, 10], dtype = tf.float32)\n",
    "y_target_test = tf.placeholder(shape = [None, 10], dtype=tf.float32)"
   ]
  },
  {
   "cell_type": "code",
   "execution_count": 33,
   "metadata": {},
   "outputs": [],
   "source": [
    "distance = tf.reduce_sum(tf.abs(tf.subtract(x_data_train, tf.expand_dims(x_data_test,1))), reduction_indices=2)"
   ]
  },
  {
   "cell_type": "code",
   "execution_count": 34,
   "metadata": {},
   "outputs": [],
   "source": [
    "top_k_xvals, top_k_idx = tf.nn.top_k(tf.negative(distance), k=k)\n",
    "prediction_idx = tf.gather(y_target_train, top_k_idx)\n",
    "count_of_preds = tf.reduce_sum(prediction_idx, reduction_indices=1)\n",
    "prediction = tf.argmax(count_of_preds)"
   ]
  },
  {
   "cell_type": "code",
   "execution_count": 35,
   "metadata": {},
   "outputs": [
    {
     "data": {
      "text/plain": [
       "20"
      ]
     },
     "execution_count": 35,
     "metadata": {},
     "output_type": "execute_result"
    }
   ],
   "source": [
    "num_of_loops = int(np.ceil(len(x_vals_test))/batch_size)\n",
    "num_of_loops"
   ]
  },
  {
   "cell_type": "code",
   "execution_count": 36,
   "metadata": {},
   "outputs": [],
   "source": [
    "test_output = []\n",
    "actual_vals = []\n",
    "for i in range(num_of_loops):\n",
    "    min_idx = i*batch_size\n",
    "    max_idx = min((i+1)*batch_size, len(x_vals_test))\n",
    "    \n",
    "    x_batch = x_vals_test[min_idx:max_idx]\n",
    "    y_batch = y_vals_test[min_idx:max_idx]\n",
    "    \n",
    "    predictions = session.run(prediction, feed_dict={x_data_train:x_vals_train,    x_data_test: x_batch,\n",
    "                                                     y_target_train: y_vals_train, y_target_test: y_batch})\n",
    "    test_output.extend(predictions)\n",
    "    actual_vals.extend(np.argmax(y_batch, axis=1))"
   ]
  },
  {
   "cell_type": "code",
   "execution_count": 37,
   "metadata": {},
   "outputs": [
    {
     "name": "stdout",
     "output_type": "stream",
     "text": [
      "La precisión del algoritmo para k = 6 ha sido de: 0.08333333333333333\n"
     ]
    }
   ],
   "source": [
    "accuracy = sum([1./test_size for i in range(test_size) if test_output[i] == actual_vals[i]])\n",
    "print(\"La precisión del algoritmo para k = \"+str(k)+\" ha sido de: \"+str(accuracy))"
   ]
  },
  {
   "cell_type": "code",
   "execution_count": 38,
   "metadata": {},
   "outputs": [
    {
     "data": {
      "image/png": "[encoded data removed]",
      "text/plain": [
       "<Figure size 432x288 with 6 Axes>"
      ]
     },
     "metadata": {
      "needs_background": "light"
     },
     "output_type": "display_data"
    }
   ],
   "source": [
    "actuals = np.argmax(y_batch, axis = 1)\n",
    "n_row = 2\n",
    "n_col = 3\n",
    "\n",
    "for i in range(len(actuals)):\n",
    "    plt.subplot(n_row, n_col, i+1)\n",
    "    plt.imshow(np.reshape(x_batch[i], [28,28]), cmap = \"Greys_r\")\n",
    "    plt.title(\"Actual: \"+str(actuals[i])+\", Predicción: \"+str(predictions[i]), fontsize=10)\n",
    "    frame = plt.gca()\n",
    "    frame.axes.get_xaxis().set_visible(False)\n",
    "    frame.axes.get_yaxis().set_visible(False)"
   ]
  },
  {
   "cell_type": "code",
   "execution_count": null,
   "metadata": {},
   "outputs": [],
   "source": []
  }
 ],
 "metadata": {
  "kernelspec": {
   "display_name": "Python 3",
   "language": "python",
   "name": "python3"
  },
  "language_info": {
   "codemirror_mode": {
    "name": "ipython",
    "version": 3
   },
   "file_extension": ".py",
   "mimetype": "text/x-python",
   "name": "python",
   "nbconvert_exporter": "python",
   "pygments_lexer": "ipython3",
   "version": "3.6.8"
  }
 },
 "nbformat": 4,
 "nbformat_minor": 2
}
