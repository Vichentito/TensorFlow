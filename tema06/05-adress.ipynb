{
 "cells": [
  {
   "cell_type": "markdown",
   "metadata": {},
   "source": [
    "# Correspondencia en direcciones postales"
   ]
  },
  {
   "cell_type": "code",
   "execution_count": 46,
   "metadata": {},
   "outputs": [],
   "source": [
    "import random\n",
    "import string\n",
    "import numpy as np\n",
    "import tensorflow as tf"
   ]
  },
  {
   "cell_type": "code",
   "execution_count": 47,
   "metadata": {},
   "outputs": [],
   "source": [
    "n = 10\n",
    "street_names = [\"diagon\", \"elm\", \"abbey\", \"vallejo\", \"batiz\"]\n",
    "street_type = [\"callejon\", \"calle\", \"carretera\", \"via\", \"avenida\"]\n",
    "street_zips = [random.randint(20000,29999) for i in range(5)]\n",
    "numbers = [random.randint(1,999) for i in range(n)]"
   ]
  },
  {
   "cell_type": "code",
   "execution_count": 48,
   "metadata": {},
   "outputs": [],
   "source": [
    "streets = [random.choice(street_names) for i in range(n)]\n",
    "street_pref = [random.choice(street_type) for i in range(n)]\n",
    "zips = [random.choice(street_zips) for i in range(n)]\n",
    "full_streets = [x + \" \" + y + \" \" + str(z) for x,y,z in zip(street_pref, streets, numbers)]\n",
    "reference_data = [list(x) for x in  zip(full_streets, zips)]"
   ]
  },
  {
   "cell_type": "code",
   "execution_count": 49,
   "metadata": {},
   "outputs": [
    {
     "data": {
      "text/plain": [
       "[['carretera vallejo 537', 22391],\n",
       " ['carretera abbey 92', 22391],\n",
       " ['via abbey 512', 22759],\n",
       " ['calle abbey 971', 27631],\n",
       " ['callejon abbey 381', 28174],\n",
       " ['via batiz 176', 22391],\n",
       " ['via diagon 79', 22391],\n",
       " ['callejon diagon 899', 28174],\n",
       " ['callejon diagon 25', 27631],\n",
       " ['via abbey 565', 22391]]"
      ]
     },
     "execution_count": 49,
     "metadata": {},
     "output_type": "execute_result"
    }
   ],
   "source": [
    "reference_data"
   ]
  },
  {
   "cell_type": "code",
   "execution_count": 50,
   "metadata": {},
   "outputs": [],
   "source": [
    "def create_typo(s, prob=0.75):\n",
    "    if random.uniform(0,1) <0.75:\n",
    "        rand_idx = random.choice(range(len(s)))\n",
    "        s_list = list(s)\n",
    "        s_list[rand_idx] = random.choice(string.ascii_lowercase)\n",
    "        s = ''.join(s_list)\n",
    "    return s"
   ]
  },
  {
   "cell_type": "code",
   "execution_count": 51,
   "metadata": {},
   "outputs": [],
   "source": [
    "typo_streets = [create_typo(x) for x in streets]"
   ]
  },
  {
   "cell_type": "code",
   "execution_count": 52,
   "metadata": {},
   "outputs": [
    {
     "data": {
      "text/plain": [
       "[['carretera vallero 537', 22391],\n",
       " ['carretera abbly 92', 22391],\n",
       " ['via abbeu 512', 22759],\n",
       " ['calle gbbey 971', 27631],\n",
       " ['callejon aabey 381', 28174],\n",
       " ['via xatiz 176', 22391],\n",
       " ['via diagon 79', 22391],\n",
       " ['callejon diagoc 899', 28174],\n",
       " ['callejon dgagon 25', 27631],\n",
       " ['via ubbey 565', 22391]]"
      ]
     },
     "execution_count": 52,
     "metadata": {},
     "output_type": "execute_result"
    }
   ],
   "source": [
    "typo_full_streets = [x+\" \"+y+\" \"+str(z) for x,y,z in zip(street_pref, typo_streets, numbers)]\n",
    "test_data = [list(x) for x in zip(typo_full_streets, zips)]\n",
    "test_data"
   ]
  },
  {
   "cell_type": "code",
   "execution_count": 53,
   "metadata": {},
   "outputs": [],
   "source": [
    "session = tf.Session()"
   ]
  },
  {
   "cell_type": "code",
   "execution_count": 54,
   "metadata": {},
   "outputs": [],
   "source": [
    "test_address = tf.sparse_placeholder(dtype = tf.string)\n",
    "test_zip = tf.placeholder(shape = [None, 1], dtype=tf.float32)\n",
    "\n",
    "ref_address = tf.sparse_placeholder(dtype = tf.string)\n",
    "ref_zip = tf.placeholder(shape=[None, n], dtype=tf.float32 )"
   ]
  },
  {
   "cell_type": "code",
   "execution_count": 55,
   "metadata": {},
   "outputs": [],
   "source": [
    "zip_dist = tf.square(tf.subtract(ref_zip, test_zip))\n",
    "address_dist = tf.edit_distance(test_address, ref_address, normalize=True)"
   ]
  },
  {
   "cell_type": "markdown",
   "metadata": {},
   "source": [
    "- $S(x,y) = 0$ si $x$ e $y$ son totalmente diferentes (no se parecen en nada)\n",
    "- $S(x,x) = 1$, ya que todo objeto es similar (si no igual) a si mismo.\n",
    "- $S(x,y) = \\frac{D - d(x,y)}{D-d}$ donde $D$ es la mayor distancia entre dos objetos posibles, y $d$ es la menor."
   ]
  },
  {
   "cell_type": "code",
   "execution_count": 56,
   "metadata": {},
   "outputs": [],
   "source": [
    "zip_max = tf.gather(tf.squeeze(zip_dist), tf.argmax(zip_dist, 1))\n",
    "zip_min = tf.gather(tf.squeeze(zip_dist), tf.argmin(zip_dist, 1))\n",
    "zip_sim = tf.divide(tf.subtract(zip_max, zip_dist), tf.subtract(zip_max, zip_min))"
   ]
  },
  {
   "cell_type": "code",
   "execution_count": 57,
   "metadata": {},
   "outputs": [],
   "source": [
    "address_sim = tf.subtract(1.0, address_dist)"
   ]
  },
  {
   "cell_type": "markdown",
   "metadata": {},
   "source": [
    "$$S(x,y) = \\sum_{i=1}^k w_iS_k(x,y):\\quad \\sum_{i=1}^kw_i = 1$$"
   ]
  },
  {
   "cell_type": "code",
   "execution_count": 58,
   "metadata": {},
   "outputs": [],
   "source": [
    "address_wi = 0.5\n",
    "zip_wi = 1.0 - address_wi"
   ]
  },
  {
   "cell_type": "code",
   "execution_count": 59,
   "metadata": {},
   "outputs": [],
   "source": [
    "weighted_sim = tf.add(tf.transpose(tf.multiply(address_wi, address_sim)), tf.multiply(zip_wi, zip_sim))"
   ]
  },
  {
   "cell_type": "code",
   "execution_count": 60,
   "metadata": {},
   "outputs": [],
   "source": [
    "top_match_idx = tf.argmax(weighted_sim, 1)"
   ]
  },
  {
   "cell_type": "code",
   "execution_count": 61,
   "metadata": {},
   "outputs": [],
   "source": [
    "def sparse_from_word_vector(word_vector):\n",
    "    num_words = len(word_vector)\n",
    "    idx = [[xi,0,yi] for xi,x in enumerate(word_vector) for yi, y in enumerate(x)]\n",
    "    chars = list(''.join(word_vector))\n",
    "    return tf.SparseTensorValue(idx, chars, [num_words,1,1])"
   ]
  },
  {
   "cell_type": "code",
   "execution_count": 73,
   "metadata": {},
   "outputs": [],
   "source": [
    "reference_address = [x[0] for x in reference_data]\n",
    "reference_zips = np.array([[x[1] for x in reference_data]])"
   ]
  },
  {
   "cell_type": "code",
   "execution_count": 74,
   "metadata": {},
   "outputs": [],
   "source": [
    "sparse_ref_set = sparse_from_word_vector(reference_address)"
   ]
  },
  {
   "cell_type": "code",
   "execution_count": 75,
   "metadata": {},
   "outputs": [
    {
     "name": "stdout",
     "output_type": "stream",
     "text": [
      "Dirección original: carretera vallero 537, 22391\n",
      "Dirección corregida: carretera vallejo 537, 22391\n",
      "\n",
      "Dirección original: carretera abbly 92, 22391\n",
      "Dirección corregida: carretera abbey 92, 22391\n",
      "\n",
      "Dirección original: via abbeu 512, 22759\n",
      "Dirección corregida: via abbey 512, 22759\n",
      "\n",
      "Dirección original: calle gbbey 971, 27631\n",
      "Dirección corregida: calle abbey 971, 27631\n",
      "\n",
      "Dirección original: callejon aabey 381, 28174\n",
      "Dirección corregida: callejon abbey 381, 28174\n",
      "\n",
      "Dirección original: via xatiz 176, 22391\n",
      "Dirección corregida: via batiz 176, 22391\n",
      "\n",
      "Dirección original: via diagon 79, 22391\n",
      "Dirección corregida: via diagon 79, 22391\n",
      "\n",
      "Dirección original: callejon diagoc 899, 28174\n",
      "Dirección corregida: callejon diagon 899, 28174\n",
      "\n",
      "Dirección original: callejon dgagon 25, 27631\n",
      "Dirección corregida: callejon diagon 25, 27631\n",
      "\n",
      "Dirección original: via ubbey 565, 22391\n",
      "Dirección corregida: via abbey 565, 22391\n",
      "\n"
     ]
    }
   ],
   "source": [
    "for i in range(n):\n",
    "    test_address_entry = test_data[i][0]\n",
    "    test_zip_entry = [[test_data[i][1]]]\n",
    "    \n",
    "    test_address_rep = [test_address_entry]*n\n",
    "    sparse_test_set = sparse_from_word_vector(test_address_rep)\n",
    "    \n",
    "    feed_dict = {test_address: sparse_test_set,\n",
    "                test_zip: test_zip_entry,\n",
    "                ref_address: sparse_ref_set,\n",
    "                ref_zip: reference_zips}\n",
    "    \n",
    "    best_match = session.run(top_match_idx, feed_dict=feed_dict)\n",
    "    best_address = reference_address[best_match[0]]\n",
    "    [best_zip] = reference_zips[0][best_match]\n",
    "    [[test_zip_aux]] = test_zip_entry\n",
    "    \n",
    "    print(\"Dirección original: \"+str(test_address_entry)+ \", \"+str(test_zip_aux))\n",
    "    print(\"Dirección corregida: \"+str(best_address)+\", \"+str(best_zip)+\"\\n\")"
   ]
  },
  {
   "cell_type": "code",
   "execution_count": null,
   "metadata": {},
   "outputs": [],
   "source": []
  }
 ],
 "metadata": {
  "kernelspec": {
   "display_name": "Python 3",
   "language": "python",
   "name": "python3"
  },
  "language_info": {
   "codemirror_mode": {
    "name": "ipython",
    "version": 3
   },
   "file_extension": ".py",
   "mimetype": "text/x-python",
   "name": "python",
   "nbconvert_exporter": "python",
   "pygments_lexer": "ipython3",
   "version": "3.6.8"
  }
 },
 "nbformat": 4,
 "nbformat_minor": 2
}
